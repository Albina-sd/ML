import tensorflow.compat.v1 as tf
import numpy as np
import pandas as pd
import random
import matplotlib
import matplotlib.pyplot as plt
from tensorflow import keras
from tensorflow.keras.layers import Dense, Flatten, Dropout, Conv1D, MaxPooling1D

from tkinter import *
from tkinter.ttk import Checkbutton, Frame, Button, Style  
from tkinter import scrolledtext 
from tkinter import filedialog
from tkinter import messagebox
from os import path

import matplotlib
matplotlib.use("TkAgg")
from matplotlib.backends.backend_tkagg import NavigationToolbar2Tk
from matplotlib.backends.backend_tkagg import FigureCanvasTkAgg
from matplotlib.figure import Figure

class authentication():
    answer = ""
    test = ""
    
    # подготовка обучающей выборки

    def sample_prep(self,file_name):
        data = pd.read_csv(file_name, header = None)
        train_y = np.array(data[data.shape[1]-1])  # метки выборки
        train_y = train_y.reshape(train_y.shape[0],1)
        data = data.drop([data.shape[1]-1], axis=1)
        train_x = np.array(data)  # сама выборка

        y = train_y
        train_y = keras.utils.to_categorical(train_y) # категорирование (2 категории: 0, 1)
        train_x = np.expand_dims(train_x, axis=2)

        return train_x, train_y
    
    # определение легитимности пользователя в бинарном понимании

    def pred(self,y_p):
        y_pred = []

        for i in range(len(y_p)):
            if y_p[i][0] < y_p[i][1]:
                y_pred.append(1)
            else:
                y_pred.append(0)

        return y_pred
    
    # вердикт нейронной сети

    def prediction_NN(self, test_x, model):
        y_test = model.predict(test_x)
        y_test = self.pred(y_test)
 
        return y_test

    # считываем данные неизвестного пользователя

    def read_ecg(self,file_name):
        test_x = pd.read_csv(file_name, header=None)
        test_x = np.array(test_x)
        
        authentication.test = file_name
        
        test_x = np.expand_dims(test_x, axis=2)

        return test_x
    
    # запуск

    def auth(self,file):

        test_x = self.read_ecg(file)
        str1 = ""

        model = tf.keras.models.load_model('/tmp/model1')
        t = self.prediction_NN(test_x, model)

        if t == [1]:
            str1 = "Это пользователь 1"

        if t == [0]:
            model = tf.keras.models.load_model('/tmp/model2')
            t = self.prediction_NN(test_x, model)

            if t == [1]:
                str1 = "Это пользователь 2"
            else:
                str1 = "Это нелегитимный пользователь"
                
        authentication.answer = str1
from tkinter import Tk, Frame, BOTH

class project(Frame):
    global lbl2
    global file
    global txt
    global a
    global g_btn
    test = []
    
x1 = []
X2 = []
    
    t_y = np.array(range(0,121))
    
    def __init__(self, parent):
        Frame.__init__(self, parent, background="white")   
        self.parent = parent
        self.parent.title("Биометрическая аутентификация по ЭКГ")
        self.pack(fill=BOTH, expand=1)
        self.centerWindow()
        self.initUI()
        #self.build_graph()
        
        
    def build_graph(self):
        global a
        a.plot(self.t_y, self.x1,color='red')
        a.plot(self.t_y, self.x2,color='blue')
        a.legend(['Template 1 User','Template 2 User'])
            
            
    def on_closing(self):
        if messagebox.askokcancel("Выход", "Вы действительно хотите закрыть программу?"):
            self.parent.destroy()
            
    def about(self):
        a = Toplevel()
        a.geometry('500x300')
        a['bg'] = 'white'
        a.overrideredirect(False)
        
        gr = pd.read_csv(project.test, header=None)
        gr = gr.drop([gr.shape[1]-1], axis=1)
        gr = np.array(gr).T
        
        f = Figure(figsize=(5,5), dpi=100)
        g = f.add_subplot(111)
        g.plot(self.t_y, self.x1,color='red')
        g.plot(self.t_y, self.x2,color='blue')
        g.plot(self.t_y, gr,color='green')
        g.legend(['Template 1 User','Template 2 User','Test Sample'])

        canvas = FigureCanvasTkAgg(f, a)
        canvas.get_tk_widget().pack(side=BOTTOM, fill=BOTH, expand=True)
        
        a.after(10000, lambda: a.destroy())
            
    def browse(self):
        global lbl2
        global txt
        global g_btn
        #global f
        
        file = filedialog.askopenfilename(initialdir = path.dirname("C:/Users/*/Desktop/")) 

        lbl2.configure(text = file) 
        
        auth1 = authentication()
        auth1.auth(file)
        
        txt.insert(INSERT, auth1.answer)
        
        project.test = auth1.test
        
        g_btn['state'] = 'normal'
        
 
    def initUI(self):
        global lbl2
        global file
        global txt
        global a
        global g_btn
        
        self.style = Style()
        self.style.theme_use("default")
        
        frame1 = Frame(self, background="white")
        frame1.pack(fill=X)
        
        frame = Frame(frame1, background="white")
        frame.pack(fill=X)
        
        lbl1 = Label(frame, text="Выберите сигнал ЭКГ для аутентификации (*.csv):")  
        lbl1.pack(side=LEFT, padx=5, pady=5)
        
        lbl = Label(frame, text="Шаблоны сигналов ЭКГ")  
        lbl.pack(side=RIGHT, padx=5, pady=5)
        
        f = Figure(figsize=(5,5), dpi=60)
        a = f.add_subplot(111)
        
        canvas = FigureCanvasTkAgg(f, frame1)
        canvas.get_tk_widget().pack(side=RIGHT, fill=X, expand=False) 
        
        self.build_graph()
        
        frame3 = Frame(frame1, background="white")
        frame3.pack(fill=X)
        
        lbl2 = Label(frame3, text="Выбранный сигнал ЭКГ")
        lbl2.pack(side=LEFT, padx=5, pady=5)
        
        txt = scrolledtext.ScrolledText()
        
        btn_browse = Button(frame3, text="Открыть", command = self.browse)  
        btn_browse.pack(side=LEFT, padx=5, pady=5)
        
        txt.insert(INSERT, project.test)
        
        frame4 = Frame(frame1, background="white")
        frame4.pack(fill=BOTH, expand=True)
        
        g_btn = Button(frame4, text="Вывести графики", command = self.about, state = DISABLED)  
        g_btn.pack(side=LEFT, padx=5, pady=5)
        
        frame5 = Frame(frame1, background="white")
        frame5.pack(fill=BOTH, expand=True)
        
        lbl3 = Label(frame5, text="Результат аутентификации:")  
        lbl3.pack(side=LEFT, padx=5)
        
        frame6 = Frame(frame1, background="white")
        frame6.pack(fill=BOTH, expand=True)
        
        txt = scrolledtext.ScrolledText(frame6, width=40, height=5)  
        txt.pack(side=LEFT, padx=5) 
        
        frame7 = Frame(frame1, background="white")
        frame7.pack(fill=BOTH, expand=True)

        closeButton = Button(frame7, text="Закрыть", command = self.on_closing)
        closeButton.pack(side=LEFT, padx=5, pady=5) 

    def centerWindow(self):
        w = 650
        h = 300
 
        sw = self.parent.winfo_screenwidth()
        sh = self.parent.winfo_screenheight()
 
        x = (sw - w) / 2
        y = (sh - h) / 2
        self.parent.geometry('%dx%d+%d+%d' % (w, h, x, y))
        
def main():
    root = Tk()
    root.geometry("700x400+300+300")
    app = project(root)
    root.mainloop()  
 
if __name__ == '__main__':
    main()
