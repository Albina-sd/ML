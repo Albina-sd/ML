import tensorflow.compat.v1 as tf
import numpy as np
import pandas as pd
import random
import matplotlib
import matplotlib.pyplot as plt
from tensorflow import keras
from tensorflow.keras.layers import Dense, SimpleRNN, Input

from tensorflow.keras.models import Sequential

data = pd.read_csv("all_templates.csv", header = None)

# метки выборки
train_y = np.array(data[data.shape[1]-1])  train_y = train_y.reshape(train_y.shape[0],1)
data = data.drop([data.shape[1]-1], axis=1)
train_x = np.array(data)  # сама выборка

train_y = keras.utils.to_categorical(train_y,num_classes=2)
train_x = np.expand_dims(train_x, axis=2)

n_features = train_x.shape[1]

# Простая RNN сеть
model = Sequential()
model.add(Input((n_features,1)))
model.add(SimpleRNN(125, activation='tanh')
model.add(Dense(2, activation='softmax'))
model.summary()

from tensorflow.keras.layers import Dense, Embedding, LSTM

model = tf.keras.Sequential()
model.add(Input((n_features,1)))

# Добавим слой LSTM с 120 внутренними узлами.
model.add(LSTM(120))

model.add(Dense(2, activation='softmax'))

model.summary()

model.compile(loss='categorical_crossentropy', metrics=['accuracy'], optimizer='adam')

history = model.fit(train_x, train_y, batch_size=32, epochs=20, validation_split=0.5)

# начертить модель
keras.utils.plot_model(model, 'RNN_model.png', show_shapes=True)
