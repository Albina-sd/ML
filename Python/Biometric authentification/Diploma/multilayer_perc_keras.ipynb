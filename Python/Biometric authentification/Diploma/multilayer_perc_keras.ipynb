import tensorflow.compat.v1 as tf
import numpy as np
import pandas as pd
import random
import matplotlib
import matplotlib.pyplot as plt
from tensorflow import keras
from tensorflow.keras.layers import Dense

data = pd.read_csv("all_templates.csv", header = None)
# метки выборки
train_y = np.array(data[data.shape[1]-1])  train_y = train_y.reshape(train_y.shape[0],1)\
data = data.drop([data.shape[1]-1], axis=1)
train_x = np.array(data)  # сама выборка

# категорирование
train_y = keras.utils.to_categorical(train_y) n_features = train_x.shape[1]

model = keras.Sequential([
Dense(8, activation='softsign'), 
 #2 - количество классов
    Dense(2,  activation='sigmoid') ])
model.compile(optimizer='adam',
             loss='categorical_crossentropy',
             metrics=['accuracy'])

# вывод структуры НС в консоль
print(model.summary())
