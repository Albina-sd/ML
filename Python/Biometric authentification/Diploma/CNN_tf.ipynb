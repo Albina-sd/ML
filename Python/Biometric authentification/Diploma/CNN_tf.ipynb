import tensorflow.compat.v1 as tf

import numpy as np
import pandas as pd
import random

from tensorflow import keras
from tensorflow.keras.layers import Dense, Flatten, Dropout, Conv1D, MaxPooling1D

data = pd.read_csv("all_templates.csv", header = None)

# метки выборки
train_y = np.array(data[data.shape[1]-1])  
train_y = train_y.reshape(train_y.shape[0],1)
data = data.drop([data.shape[1]-1], axis=1)
train_x = np.array(data)  # сама выборка

# категорирование
train_y = keras.utils.to_categorical(train_y) 
train_x = np.expand_dims(train_x, axis=2)

n_features = train_x.shape[1]

model = keras.Sequential([
Conv1D(filters=64, kernel_size=3, activation='relu', input_shape=(n_features,1)),

    MaxPooling1D(pool_size=2),
    Conv1D(filters=64, kernel_size=3, activation='relu'),
    MaxPooling1D(pool_size=2),
    Flatten(),
    Dense(125, activation='relu'),  
    Dense(2,  activation='softmax')
])

# вывод структуры НС в консоль
print(model.summary())
# начертить модель
keras.utils.plot_model(model, 'CNN_model.png', show_shapes=True)

model.compile(optimizer='adam',
             loss='categorical_crossentropy',
             metrics=['accuracy'])

his = model.fit(train_x, train_y, batch_size=32, epochs=30, validation_split=0.45)
