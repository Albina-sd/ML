## importing part
import pandas as pd
import numpy as np
import seaborn as sns
import csv

from scipy.signal import butter, lfilter
from scipy.signal import find_peaks
from scipy import interpolate

import matplotlib.pyplot as plt


class filtering():
    
    # Filter requirements.
    order = 3
    band = 35  # bandwidth
    disp = 10  # displacement
    fs = 360  # sample rate, Hz
# desired cutoff frequency of the filter, Hz
    cutoff = 50  

    def butter_lowpass(self):
        nyq = 0.5 * self.fs
        normal_cutoff = self.cutoff / nyq
        b, a = butter(self.order, normal_cutoff,      btype='low', analog=False)
        return b, a


    def butter_lowpass_filter(self,data):
        b, a = self.butter_lowpass()
        y = lfilter(b, a, data)
        return y
    
class feature_extraction():
    
    def mass(self,m):
        array = []
        for i in range(len(m)):
            array.append(m[i])
        return array


    def split_into_cycles(self,rr, ecg, lc, tc):
        k, i = 0, 0
        cycles = []
        sample_time = []

        while k < len(rr)-1:
            if i == rr[k]:
                cycles.append(ecg[i:i + lc:1])
                sample_time.append(tc[i:i + lc:1])

                k += 1
                i += lc - 1
            i += 1

        return cycles, sample_time


    def normalize_ecg(self,signal, s_time):

        for i in range(len(signal)):
            v_min = min(signal[i])
            v_max = max(signal[i])

            for j in range(len(signal[i])):

                n = len(signal[i])

                signal[i][j] = (n - i) / n * (signal[i][j] - v_min) / (v_max - v_min) + j /\
                               n * (signal[i][j] - v_min) / (v_max - v_min)
                s_time[i][j] = (s_time[i][j] - s_time[i][0]) / (s_time[i][n - 1] - s_time[i][0])

        return signal, s_time


    def medium_value(self,signal):
        m_signal = [0 for i in range(len(signal[0]))]

        for i in range(len(signal)):
            for j in range(len(signal[i])):
                m_signal[j] += signal[i][j]

        for j in range(len(signal[i])):
            m_signal[j] = m_signal[j] / len(signal)

        return m_signal


    def len_template(self,p):
        m = 0
        leng = 1000
        for i in range(len(p)-1):
            m = p[i+1] - p[i]
            if leng > m:
                leng = m

        return leng


    def add_zeros(self,tp, l):
        if len(tp) < l:
            for i in range(l-len(tp)):
                tp.append(0)
        return tp
    

## importing data part
ecg_data_frame = pd.read_csv('C:/Users/albin/1.csv', header=1)


## filtering part
filter1 = filtering()

# Demonstrate the use of the filter.
# First make some data to be filtered.
t = ecg_data_frame.iloc[:, 0]
T = 0.00877778  # seconds
n = t.size  # total number of samples

# Filter the data, and plot both the original and filtered signals.
y1 = filter1.butter_lowpass_filter(ecg_data_frame.iloc[:, 1])
y2 = filter1.butter_lowpass_filter(ecg_data_frame.iloc[:, 2])
    
## feature extraction

f_e = feature_extraction()

x = y1
xx = x
x = f_e.mass(x)
t = f_e.mass(t)

# find R peaks  
# chose peaks               
peaks, _ = find_peaks(x, height=(0.52, 3.2))     

# plotting part
plt.plot(x)
plt.plot(peaks, xx[peaks], "x")
plt.plot(np.zeros_like(xx), "--", color="gray")
plt.title('Find R peaks')
plt.show()

# splitting ecg
l = f_e.len_template(peaks)  # length of cycle
data, time = f_e.split_into_cycles(peaks, x, l, t)


# interpolation algorithm cubic spline
data1 = []
time1 = time

for i in range(len(data)):
    data1.append(interpolate.splrep(time1[i], data[i], s=0))

for i in range(len(data)):
    data1[i] = interpolate.splev(time1[i], data1[i], der=1)

# normalize the ECG
data, time = f_e.normalize_ecg(data1, time)

# find medium cycle
template = f_e.medium_value(data)
template = f_e.add_zeros(template, 122)  # длина не менее 122

# save the template into csv
with open('C:/Users/albin/template_1.csv', 'w', newline='') as f:
    writer = csv.writer(f)
    writer.writerow(template)

# plotting part
for i in range(len(data)):
    plt.plot(data[i])
plt.plot(template, color='red')
plt.legend(['ECG cycle 1', 'ECG cycle 2', 'ECG cycle 3', 'ECG cycle 4', 'ECG cycle 5', 'ECG cycle 6', 'ECG cycle 7',
            'ECG cycle 8', 'ECG cycle 9', 'template'])
plt.title('After normalization and finding medium cycle')
plt.show()
