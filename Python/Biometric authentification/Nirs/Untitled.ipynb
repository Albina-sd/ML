{
 "cells": [
  {
   "cell_type": "code",
   "execution_count": 1,
   "metadata": {},
   "outputs": [
    {
     "name": "stdout",
     "output_type": "stream",
     "text": [
      "1\n",
      "2\n",
      "4\n",
      "8\n",
      "11\n",
      "13\n",
      "16\n",
      "17\n",
      "19\n",
      "из отрезка [1..1500] не делятся на 3,5,7 A357 = 685\n",
      "из отрезка [21..1500] не делятся на 3,5,7 A357 = 676\n",
      "из отрезка [1..20] не делятся на 3,5,7 A357 = 9\n"
     ]
    }
   ],
   "source": [
    "a = 21\n",
    "b = 1500\n",
    "count = 0\n",
    "count1 = 0\n",
    "count2 = 0\n",
    "        \n",
    "for num in range (1,b+1):\n",
    "    if (num % 5 != 0)&(num % 7 != 0)&(num % 3 != 0):\n",
    "        count2 += 1\n",
    "        \n",
    "for num in range (a,b+1):\n",
    "    if (num % 5 != 0)&(num % 7 != 0)&(num % 3 != 0)&(num % 15 != 0):\n",
    "        count1 += 1\n",
    "        \n",
    "for num in range (1,21):\n",
    "    if (num % 5 != 0)&(num % 7 != 0)&(num % 3 != 0):\n",
    "        print(num)\n",
    "        count += 1\n",
    "        \n",
    "print('из отрезка [1..1500] не делятся на 3,5,7 A357 =',count2)\n",
    "print('из отрезка [21..1500] не делятся на 3,5,7,15 A357 =',count1)\n",
    "print('из отрезка [1..20] не делятся на 3,5,7 A357 =',count)"
   ]
  },
  {
   "cell_type": "code",
   "execution_count": 26,
   "metadata": {},
   "outputs": [
    {
     "name": "stdout",
     "output_type": "stream",
     "text": [
      "1..180 A357 =  48\n"
     ]
    }
   ],
   "source": [
    "a = 1\n",
    "b = 180\n",
    "count = 0\n",
    "\n",
    "for num in range (a,b+1):\n",
    "    if (num % 5 != 0)&(num % 2 != 0)&(num % 3 != 0):\n",
    "        count += 1\n",
    "        \n",
    "print('1..180 A357 = ',count)"
   ]
  },
  {
   "cell_type": "code",
   "execution_count": 19,
   "metadata": {},
   "outputs": [
    {
     "name": "stdout",
     "output_type": "stream",
     "text": [
      "2..1000 A 12,18,15,21 = 818\n"
     ]
    }
   ],
   "source": [
    "a = 2\n",
    "b = 1000\n",
    "count = 0\n",
    "\n",
    "for num in range (a,b+1):\n",
    "    if (num % 12 != 0)&(num % 18 != 0)&(num % 15 != 0)&(num % 21 != 0):\n",
    "        count += 1\n",
    "        \n",
    "print('2..1000 A 12,18,15,21 =',count)"
   ]
  },
  {
   "cell_type": "markdown",
   "metadata": {},
   "source": [
    " 12,    15,  18,   21\n",
    "2*2*3  3*5  2*3*3  3*7\n",
    "\n",
    "НОК = 3*7*4*5*3 = 1260\n",
    "НОД = 3"
   ]
  },
  {
   "cell_type": "code",
   "execution_count": 4,
   "metadata": {},
   "outputs": [
    {
     "name": "stdout",
     "output_type": "stream",
     "text": [
      "1\n",
      "2\n",
      "4\n",
      "8\n",
      "11\n",
      "13\n",
      "16\n",
      "17\n",
      "19\n",
      "из отрезка [1..1500] не делятся на 3,5,7 A357 = 457\n",
      "из отрезка [21..1500] не делятся на 3,5,7,15 A357 = 818\n",
      "из отрезка [1..20] не делятся на 3,5,7 A357 = 9\n"
     ]
    }
   ],
   "source": [
    "a = 2\n",
    "b = 1000\n",
    "count1 = 0\n",
    "        \n",
    "for num in range (a,b+1):\n",
    "    if (num % 12 != 0)&(num % 18 != 0)&(num % 15 != 0)&(num % 21 != 0):\n",
    "        count1 += 1\n",
    "        \n",
    "print('из отрезка [2..1000] не делятся на 12,18,15,21 A =',count1)"
   ]
  },
  {
   "cell_type": "code",
   "execution_count": null,
   "metadata": {},
   "outputs": [],
   "source": []
  }
 ],
 "metadata": {
  "kernelspec": {
   "display_name": "Python 3",
   "language": "python",
   "name": "python3"
  },
  "language_info": {
   "codemirror_mode": {
    "name": "ipython",
    "version": 3
   },
   "file_extension": ".py",
   "mimetype": "text/x-python",
   "name": "python",
   "nbconvert_exporter": "python",
   "pygments_lexer": "ipython3",
   "version": "3.7.6"
  }
 },
 "nbformat": 4,
 "nbformat_minor": 4
}
