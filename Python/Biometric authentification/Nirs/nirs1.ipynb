{
 "cells": [
  {
   "cell_type": "code",
   "execution_count": 1,
   "metadata": {},
   "outputs": [
    {
     "name": "stdout",
     "output_type": "stream",
     "text": [
      "Определение показателей для Gaussian Naive Bayes\n",
      "Определение показателей для Multinomial Naive Bayes\n",
      "Определение показателей для Logistic Regression\n",
      "Определение показателей для Random Forest\n"
     ]
    },
    {
     "name": "stderr",
     "output_type": "stream",
     "text": [
      "C:\\Users\\asus\\anaconda3\\lib\\site-packages\\ipykernel_launcher.py:73: DeprecationWarning: scipy.interp is deprecated and will be removed in SciPy 2.0.0, use numpy.interp instead\n",
      "C:\\Users\\asus\\anaconda3\\lib\\site-packages\\ipykernel_launcher.py:73: DeprecationWarning: scipy.interp is deprecated and will be removed in SciPy 2.0.0, use numpy.interp instead\n",
      "C:\\Users\\asus\\anaconda3\\lib\\site-packages\\ipykernel_launcher.py:73: DeprecationWarning: scipy.interp is deprecated and will be removed in SciPy 2.0.0, use numpy.interp instead\n",
      "C:\\Users\\asus\\anaconda3\\lib\\site-packages\\ipykernel_launcher.py:73: DeprecationWarning: scipy.interp is deprecated and will be removed in SciPy 2.0.0, use numpy.interp instead\n",
      "C:\\Users\\asus\\anaconda3\\lib\\site-packages\\ipykernel_launcher.py:73: DeprecationWarning: scipy.interp is deprecated and will be removed in SciPy 2.0.0, use numpy.interp instead\n",
      "C:\\Users\\asus\\anaconda3\\lib\\site-packages\\ipykernel_launcher.py:73: DeprecationWarning: scipy.interp is deprecated and will be removed in SciPy 2.0.0, use numpy.interp instead\n",
      "C:\\Users\\asus\\anaconda3\\lib\\site-packages\\ipykernel_launcher.py:73: DeprecationWarning: scipy.interp is deprecated and will be removed in SciPy 2.0.0, use numpy.interp instead\n",
      "C:\\Users\\asus\\anaconda3\\lib\\site-packages\\ipykernel_launcher.py:73: DeprecationWarning: scipy.interp is deprecated and will be removed in SciPy 2.0.0, use numpy.interp instead\n",
      "C:\\Users\\asus\\anaconda3\\lib\\site-packages\\ipykernel_launcher.py:73: DeprecationWarning: scipy.interp is deprecated and will be removed in SciPy 2.0.0, use numpy.interp instead\n"
     ]
    },
    {
     "name": "stdout",
     "output_type": "stream",
     "text": [
      "Определение показателей для Decision Tree\n",
      "Определение показателей для Ada Boost\n",
      "Определение показателей для Gaussian Naive Bayes\n",
      "Определение показателей для Multinomial Naive Bayes\n",
      "Определение показателей для Logistic Regression\n",
      "Определение показателей для Random Forest\n"
     ]
    },
    {
     "name": "stderr",
     "output_type": "stream",
     "text": [
      "C:\\Users\\asus\\anaconda3\\lib\\site-packages\\ipykernel_launcher.py:73: DeprecationWarning: scipy.interp is deprecated and will be removed in SciPy 2.0.0, use numpy.interp instead\n",
      "C:\\Users\\asus\\anaconda3\\lib\\site-packages\\ipykernel_launcher.py:73: DeprecationWarning: scipy.interp is deprecated and will be removed in SciPy 2.0.0, use numpy.interp instead\n",
      "C:\\Users\\asus\\anaconda3\\lib\\site-packages\\ipykernel_launcher.py:73: DeprecationWarning: scipy.interp is deprecated and will be removed in SciPy 2.0.0, use numpy.interp instead\n",
      "C:\\Users\\asus\\anaconda3\\lib\\site-packages\\ipykernel_launcher.py:73: DeprecationWarning: scipy.interp is deprecated and will be removed in SciPy 2.0.0, use numpy.interp instead\n",
      "C:\\Users\\asus\\anaconda3\\lib\\site-packages\\ipykernel_launcher.py:73: DeprecationWarning: scipy.interp is deprecated and will be removed in SciPy 2.0.0, use numpy.interp instead\n",
      "C:\\Users\\asus\\anaconda3\\lib\\site-packages\\ipykernel_launcher.py:73: DeprecationWarning: scipy.interp is deprecated and will be removed in SciPy 2.0.0, use numpy.interp instead\n"
     ]
    },
    {
     "name": "stdout",
     "output_type": "stream",
     "text": [
      "Определение показателей для Decision Tree\n",
      "Определение показателей для Ada Boost\n",
      "Определение показателей для Gaussian Naive Bayes\n",
      "Определение показателей для Multinomial Naive Bayes\n",
      "Определение показателей для Logistic Regression\n",
      "Определение показателей для Random Forest\n"
     ]
    },
    {
     "name": "stderr",
     "output_type": "stream",
     "text": [
      "C:\\Users\\asus\\anaconda3\\lib\\site-packages\\ipykernel_launcher.py:73: DeprecationWarning: scipy.interp is deprecated and will be removed in SciPy 2.0.0, use numpy.interp instead\n",
      "C:\\Users\\asus\\anaconda3\\lib\\site-packages\\ipykernel_launcher.py:73: DeprecationWarning: scipy.interp is deprecated and will be removed in SciPy 2.0.0, use numpy.interp instead\n",
      "C:\\Users\\asus\\anaconda3\\lib\\site-packages\\ipykernel_launcher.py:73: DeprecationWarning: scipy.interp is deprecated and will be removed in SciPy 2.0.0, use numpy.interp instead\n"
     ]
    },
    {
     "name": "stdout",
     "output_type": "stream",
     "text": [
      "Определение показателей для Decision Tree\n",
      "Определение показателей для Ada Boost\n",
      "Определение показателей для Gaussian Naive Bayes\n"
     ]
    },
    {
     "name": "stderr",
     "output_type": "stream",
     "text": [
      "C:\\Users\\asus\\anaconda3\\lib\\site-packages\\sklearn\\metrics\\_ranking.py:808: UndefinedMetricWarning: No positive samples in y_true, true positive value should be meaningless\n",
      "  UndefinedMetricWarning)\n",
      "C:\\Users\\asus\\anaconda3\\lib\\site-packages\\ipykernel_launcher.py:73: DeprecationWarning: scipy.interp is deprecated and will be removed in SciPy 2.0.0, use numpy.interp instead\n",
      "C:\\Users\\asus\\anaconda3\\lib\\site-packages\\sklearn\\metrics\\_ranking.py:808: UndefinedMetricWarning: No positive samples in y_true, true positive value should be meaningless\n",
      "  UndefinedMetricWarning)\n",
      "C:\\Users\\asus\\anaconda3\\lib\\site-packages\\ipykernel_launcher.py:73: DeprecationWarning: scipy.interp is deprecated and will be removed in SciPy 2.0.0, use numpy.interp instead\n",
      "C:\\Users\\asus\\anaconda3\\lib\\site-packages\\sklearn\\metrics\\_ranking.py:808: UndefinedMetricWarning: No positive samples in y_true, true positive value should be meaningless\n",
      "  UndefinedMetricWarning)\n",
      "C:\\Users\\asus\\anaconda3\\lib\\site-packages\\ipykernel_launcher.py:73: DeprecationWarning: scipy.interp is deprecated and will be removed in SciPy 2.0.0, use numpy.interp instead\n"
     ]
    },
    {
     "name": "stdout",
     "output_type": "stream",
     "text": [
      "Определение показателей для Multinomial Naive Bayes\n",
      "Определение показателей для Logistic Regression\n",
      "Определение показателей для Random Forest\n"
     ]
    },
    {
     "name": "stderr",
     "output_type": "stream",
     "text": [
      "C:\\Users\\asus\\anaconda3\\lib\\site-packages\\sklearn\\metrics\\_ranking.py:808: UndefinedMetricWarning: No positive samples in y_true, true positive value should be meaningless\n",
      "  UndefinedMetricWarning)\n",
      "C:\\Users\\asus\\anaconda3\\lib\\site-packages\\ipykernel_launcher.py:73: DeprecationWarning: scipy.interp is deprecated and will be removed in SciPy 2.0.0, use numpy.interp instead\n",
      "C:\\Users\\asus\\anaconda3\\lib\\site-packages\\sklearn\\metrics\\_ranking.py:808: UndefinedMetricWarning: No positive samples in y_true, true positive value should be meaningless\n",
      "  UndefinedMetricWarning)\n",
      "C:\\Users\\asus\\anaconda3\\lib\\site-packages\\ipykernel_launcher.py:73: DeprecationWarning: scipy.interp is deprecated and will be removed in SciPy 2.0.0, use numpy.interp instead\n",
      "C:\\Users\\asus\\anaconda3\\lib\\site-packages\\sklearn\\metrics\\_ranking.py:808: UndefinedMetricWarning: No positive samples in y_true, true positive value should be meaningless\n",
      "  UndefinedMetricWarning)\n",
      "C:\\Users\\asus\\anaconda3\\lib\\site-packages\\ipykernel_launcher.py:73: DeprecationWarning: scipy.interp is deprecated and will be removed in SciPy 2.0.0, use numpy.interp instead\n"
     ]
    },
    {
     "name": "stdout",
     "output_type": "stream",
     "text": [
      "Определение показателей для Decision Tree\n",
      "Определение показателей для Ada Boost\n",
      "Gaussian Naive Bayes\n",
      "              precision    recall  f1-score   support\n",
      "\n",
      "         0.0       0.72      0.93      0.81        14\n",
      "         1.0       0.50      0.17      0.25         6\n",
      "\n",
      "    accuracy                           0.70        20\n",
      "   macro avg       0.61      0.55      0.53        20\n",
      "weighted avg       0.66      0.70      0.64        20\n",
      "\n",
      "True positive =  13\n",
      "False positive =  1\n",
      "False negative =  5\n",
      "True negative =  1\n",
      "Multinomial Naive Bayes\n",
      "              precision    recall  f1-score   support\n",
      "\n",
      "         0.0       0.83      0.71      0.77        14\n",
      "         1.0       0.50      0.67      0.57         6\n",
      "\n",
      "    accuracy                           0.70        20\n",
      "   macro avg       0.67      0.69      0.67        20\n",
      "weighted avg       0.73      0.70      0.71        20\n",
      "\n",
      "True positive =  10\n",
      "False positive =  4\n",
      "False negative =  2\n",
      "True negative =  4\n",
      "Logistic Regression\n",
      "              precision    recall  f1-score   support\n",
      "\n",
      "         0.0       0.67      0.71      0.69        14\n",
      "         1.0       0.20      0.17      0.18         6\n",
      "\n",
      "    accuracy                           0.55        20\n",
      "   macro avg       0.43      0.44      0.44        20\n",
      "weighted avg       0.53      0.55      0.54        20\n",
      "\n",
      "True positive =  10\n",
      "False positive =  4\n",
      "False negative =  5\n",
      "True negative =  1\n",
      "Random Forest\n",
      "              precision    recall  f1-score   support\n",
      "\n",
      "         0.0       0.71      0.71      0.71        14\n",
      "         1.0       0.33      0.33      0.33         6\n",
      "\n",
      "    accuracy                           0.60        20\n",
      "   macro avg       0.52      0.52      0.52        20\n",
      "weighted avg       0.60      0.60      0.60        20\n",
      "\n",
      "True positive =  10\n",
      "False positive =  4\n",
      "False negative =  4\n",
      "True negative =  2\n",
      "Decision Tree\n",
      "              precision    recall  f1-score   support\n",
      "\n",
      "         0.0       0.71      0.71      0.71        14\n",
      "         1.0       0.33      0.33      0.33         6\n",
      "\n",
      "    accuracy                           0.60        20\n",
      "   macro avg       0.52      0.52      0.52        20\n",
      "weighted avg       0.60      0.60      0.60        20\n",
      "\n",
      "True positive =  10\n",
      "False positive =  4\n",
      "False negative =  4\n",
      "True negative =  2\n",
      "Ada Boost\n",
      "              precision    recall  f1-score   support\n",
      "\n",
      "         0.0       0.71      0.71      0.71        14\n",
      "         1.0       0.33      0.33      0.33         6\n",
      "\n",
      "    accuracy                           0.60        20\n",
      "   macro avg       0.52      0.52      0.52        20\n",
      "weighted avg       0.60      0.60      0.60        20\n",
      "\n",
      "True positive =  10\n",
      "False positive =  4\n",
      "False negative =  4\n",
      "True negative =  2\n"
     ]
    },
    {
     "data": {
      "image/png": "[encoded data removed]",
      "text/plain": [
       "<Figure size 504x504 with 1 Axes>"
      ]
     },
     "metadata": {
      "needs_background": "light"
     },
     "output_type": "display_data"
    }
   ],
   "source": [
    "import pandas\n",
    "import numpy as np\n",
    "\n",
    "from sklearn.ensemble import RandomForestClassifier\n",
    "from sklearn.linear_model import LogisticRegression\n",
    "from sklearn.naive_bayes import GaussianNB\n",
    "from sklearn.naive_bayes import MultinomialNB\n",
    "from sklearn.ensemble import AdaBoostClassifier\n",
    "from sklearn.tree import DecisionTreeClassifier\n",
    "\n",
    "from sklearn.metrics import classification_report\n",
    "from sklearn.metrics import confusion_matrix\n",
    "from sklearn import metrics\n",
    "from sklearn.metrics import roc_curve, auc\n",
    "from sklearn.model_selection import KFold\n",
    "from scipy import interp\n",
    "\n",
    "%matplotlib inline\n",
    "import matplotlib.pyplot as plt\n",
    "plt.rcParams[\"figure.figsize\"] = (7, 7) # (w, h)\n",
    "plt.rcParams.update({'font.size': 10})\n",
    "\n",
    "def print_confusion_matrix(y_true, y_pred):\n",
    "    cm = confusion_matrix(y_true, y_pred)\n",
    "    print('True positive = ', cm[0][0])\n",
    "    print('False positive = ', cm[0][1])\n",
    "    print('False negative = ', cm[1][0])\n",
    "    print('True negative = ', cm[1][1])\n",
    "\n",
    "from pandas import read_csv\n",
    "data = read_csv('all_templates.csv', sep=',', header=None)\n",
    "data = data.values\n",
    "Xtrain = data[:, 0:len(data[0])-2] # все столбцы, кроме последнего - атрибуты\n",
    "Ytrain = data[:, len(data[0])-1] # последний столбец - класс\n",
    "Xtest = data[:, 0:len(data[0])-2]\n",
    "Ytest = data[:, len(data[0])-1]\n",
    "\n",
    "classifiers = {\n",
    "    'Gaussian Naive Bayes' : GaussianNB(),\n",
    "    'Multinomial Naive Bayes' : MultinomialNB(),\n",
    "    'Logistic Regression' : LogisticRegression(), \n",
    "    'Random Forest' : RandomForestClassifier(n_jobs = -1), \n",
    "    'Decision Tree' : DecisionTreeClassifier(random_state=241),\n",
    "    'Ada Boost' : AdaBoostClassifier()\n",
    "}\n",
    "\n",
    "kf = KFold(n_splits = 4) #количество разбиений при проверке\n",
    "\n",
    "tprs = []\n",
    "aucs = []\n",
    "original = []\n",
    "predicted = []\n",
    "for i in range(len(classifiers)):\n",
    "    tprs.append([])\n",
    "    aucs.append([])\n",
    "    original.append(np.array([]))\n",
    "    predicted.append(np.array([]))\n",
    "\n",
    "mean_fpr = np.linspace(0, 1, 100)\n",
    "\n",
    "for train, test in kf.split(data):\n",
    "    x = Xtrain[train]\n",
    "    y = Ytrain[train]\n",
    "    x_test = Xtest[test]\n",
    "    y_test = Ytest[test]\n",
    "    \n",
    "    for idx, (name, classifier) in enumerate(classifiers.items()):\n",
    "        print(\"Определение показателей для {}\".format(name))\n",
    "        model = classifier.fit(x, y)\n",
    "        pred = model.predict(x_test)\n",
    "        probas_ = model.predict_proba(x_test)\n",
    "        fpr, tpr, thresholds = roc_curve(y_test, probas_[:, probas_.shape[1]-1])\n",
    "        tprs[idx].append(interp(mean_fpr, fpr, tpr))\n",
    "        tprs[idx][-1][0] = 0.0\n",
    "        aucs[idx].append(auc(fpr, tpr))\n",
    "        original[idx] = np.hstack([original[idx], y_test])\n",
    "        predicted[idx] = np.hstack([predicted[idx], pred])\n",
    "\n",
    "for idx, (name, classifier) in enumerate(classifiers.items()):\n",
    "    report = classification_report(original[idx],predicted[idx] )\n",
    "    print(name)\n",
    "    print(report)\n",
    "    print_confusion_matrix(original[idx], predicted[idx])\n",
    "\n",
    "plt.plot([0, 1], [0, 1], linestyle='--', lw=2, color='r', alpha=.1)\n",
    "\n",
    "for idx, (name, classifier) in enumerate(classifiers.items()):\n",
    "    mean_tpr = np.mean(tprs[idx], axis=0)\n",
    "    mean_tpr[-1] = 1.0\n",
    "    mean_auc = auc(mean_fpr, mean_tpr)\n",
    "    std_auc = np.std(aucs[idx])\n",
    "    plt.plot(mean_fpr, mean_tpr, label=r'%s (ROC AUC = %0.2f $\\pm$ %0.2f)' % (name, mean_auc, std_auc), lw=2, alpha=.8)\n",
    "\n",
    "plt.xlim([-0.05, 1.05])\n",
    "plt.ylim([-0.05, 1.05])\n",
    "plt.xlabel('False Positive Rate')\n",
    "plt.ylabel('True Positive Rate')\n",
    "plt.legend(loc=\"lower right\")\n",
    "plt.title(\"ROC AUC\")\n",
    "plt.show()"
   ]
  },
  {
   "cell_type": "code",
   "execution_count": null,
   "metadata": {},
   "outputs": [],
   "source": []
  }
 ],
 "metadata": {
  "kernelspec": {
   "display_name": "Python 3",
   "language": "python",
   "name": "python3"
  },
  "language_info": {
   "codemirror_mode": {
    "name": "ipython",
    "version": 3
   },
   "file_extension": ".py",
   "mimetype": "text/x-python",
   "name": "python",
   "nbconvert_exporter": "python",
   "pygments_lexer": "ipython3",
   "version": "3.7.6"
  }
 },
 "nbformat": 4,
 "nbformat_minor": 4
}
