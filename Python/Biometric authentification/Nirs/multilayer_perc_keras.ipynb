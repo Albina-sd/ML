{
 "cells": [
  {
   "cell_type": "code",
   "execution_count": 1,
   "metadata": {},
   "outputs": [],
   "source": [
    "import tensorflow.compat.v1 as tf\n",
    "import numpy as np\n",
    "import pandas as pd\n",
    "import random\n",
    "import matplotlib\n",
    "import matplotlib.pyplot as plt\n",
    "from tensorflow import keras\n",
    "from tensorflow.keras.layers import Dense"
   ]
  },
  {
   "cell_type": "code",
   "execution_count": 2,
   "metadata": {},
   "outputs": [
    {
     "data": {
      "text/plain": [
       "(61, 123)"
      ]
     },
     "execution_count": 2,
     "metadata": {},
     "output_type": "execute_result"
    }
   ],
   "source": [
    "data = pd.read_csv(\"all_templates_2.csv\", header = None)\n",
    "data.shape"
   ]
  },
  {
   "cell_type": "code",
   "execution_count": 3,
   "metadata": {},
   "outputs": [],
   "source": [
    "#data = pd.read_csv(\"all_templates.csv\", header = None)\n",
    "train_y = np.array(data[data.shape[1]-1])  # метки выборки\n",
    "train_y = train_y.reshape(train_y.shape[0],1)\n",
    "#train_y = train_y.T\n",
    "data = data.drop([data.shape[1]-1], axis=1)\n",
    "train_x = np.array(data)  # сама выборка\n",
    "\n",
    "y = train_y\n",
    "train_y = keras.utils.to_categorical(train_y) # категорирование\n",
    "#train_x = np.expand_dims(train_x, axis=2)"
   ]
  },
  {
   "cell_type": "code",
   "execution_count": 4,
   "metadata": {},
   "outputs": [
    {
     "data": {
      "text/plain": [
       "122"
      ]
     },
     "execution_count": 4,
     "metadata": {},
     "output_type": "execute_result"
    }
   ],
   "source": [
    "n_features = train_x.shape[1]\n",
    "n_features"
   ]
  },
  {
   "cell_type": "code",
   "execution_count": 38,
   "metadata": {},
   "outputs": [],
   "source": [
    "model = keras.Sequential([\n",
    "    Dense(8, activation='softsign'),  \n",
    "    Dense(2,  activation='sigmoid') #2 - количество классов\n",
    "])"
   ]
  },
  {
   "cell_type": "code",
   "execution_count": 39,
   "metadata": {},
   "outputs": [],
   "source": [
    "METRICS = [\n",
    "      keras.metrics.TruePositives(name='tp'),\n",
    "      keras.metrics.FalsePositives(name='fp'),\n",
    "      keras.metrics.TrueNegatives(name='tn'),\n",
    "      keras.metrics.FalseNegatives(name='fn'), \n",
    "      keras.metrics.BinaryAccuracy(name='accuracy'),\n",
    "      keras.metrics.Precision(name='precision'),\n",
    "      keras.metrics.Recall(name='recall'),\n",
    "      keras.metrics.AUC(name='auc'),\n",
    "]"
   ]
  },
  {
   "cell_type": "code",
   "execution_count": 45,
   "metadata": {},
   "outputs": [],
   "source": [
    "model.compile(optimizer='adam',\n",
    "             loss='categorical_crossentropy',\n",
    "             metrics=METRICS)"
   ]
  },
  {
   "cell_type": "code",
   "execution_count": 46,
   "metadata": {
    "scrolled": true
   },
   "outputs": [
    {
     "name": "stdout",
     "output_type": "stream",
     "text": [
      "Train on 36 samples, validate on 25 samples\n",
      "Epoch 1/100\n",
      "36/36 [==============================] - 5s 125ms/sample - loss: 0.2996 - tp: 11.0000 - fp: 0.0000e+00 - tn: 36.0000 - fn: 25.0000 - accuracy: 0.6528 - precision: 1.0000 - recall: 0.3056 - auc: 0.9645 - val_loss: 0.4233 - val_tp: 7.0000 - val_fp: 2.0000 - val_tn: 23.0000 - val_fn: 18.0000 - val_accuracy: 0.6000 - val_precision: 0.7778 - val_recall: 0.2800 - val_auc: 0.8728\n",
      "Epoch 2/100\n",
      "36/36 [==============================] - 0s 638us/sample - loss: 0.2998 - tp: 14.0000 - fp: 0.0000e+00 - tn: 36.0000 - fn: 22.0000 - accuracy: 0.6944 - precision: 1.0000 - recall: 0.3889 - auc: 0.9576 - val_loss: 0.4560 - val_tp: 7.0000 - val_fp: 2.0000 - val_tn: 23.0000 - val_fn: 18.0000 - val_accuracy: 0.6000 - val_precision: 0.7778 - val_recall: 0.2800 - val_auc: 0.8456\n",
      "Epoch 3/100\n",
      "36/36 [==============================] - 0s 444us/sample - loss: 0.2969 - tp: 16.0000 - fp: 0.0000e+00 - tn: 36.0000 - fn: 20.0000 - accuracy: 0.7222 - precision: 1.0000 - recall: 0.4444 - auc: 0.9568 - val_loss: 0.4417 - val_tp: 7.0000 - val_fp: 2.0000 - val_tn: 23.0000 - val_fn: 18.0000 - val_accuracy: 0.6000 - val_precision: 0.7778 - val_recall: 0.2800 - val_auc: 0.8520\n",
      "Epoch 4/100\n",
      "36/36 [==============================] - 0s 560us/sample - loss: 0.2905 - tp: 16.0000 - fp: 0.0000e+00 - tn: 36.0000 - fn: 20.0000 - accuracy: 0.7222 - precision: 1.0000 - recall: 0.4444 - auc: 0.9606 - val_loss: 0.4311 - val_tp: 7.0000 - val_fp: 2.0000 - val_tn: 23.0000 - val_fn: 18.0000 - val_accuracy: 0.6000 - val_precision: 0.7778 - val_recall: 0.2800 - val_auc: 0.8568\n",
      "Epoch 5/100\n",
      "36/36 [==============================] - 0s 1ms/sample - loss: 0.2870 - tp: 16.0000 - fp: 0.0000e+00 - tn: 36.0000 - fn: 20.0000 - accuracy: 0.7222 - precision: 1.0000 - recall: 0.4444 - auc: 0.9614 - val_loss: 0.4322 - val_tp: 7.0000 - val_fp: 2.0000 - val_tn: 23.0000 - val_fn: 18.0000 - val_accuracy: 0.6000 - val_precision: 0.7778 - val_recall: 0.2800 - val_auc: 0.8560\n",
      "Epoch 6/100\n",
      "36/36 [==============================] - 0s 1ms/sample - loss: 0.2845 - tp: 17.0000 - fp: 0.0000e+00 - tn: 36.0000 - fn: 19.0000 - accuracy: 0.7361 - precision: 1.0000 - recall: 0.4722 - auc: 0.9630 - val_loss: 0.4501 - val_tp: 7.0000 - val_fp: 2.0000 - val_tn: 23.0000 - val_fn: 18.0000 - val_accuracy: 0.6000 - val_precision: 0.7778 - val_recall: 0.2800 - val_auc: 0.8456\n",
      "Epoch 7/100\n",
      "36/36 [==============================] - 0s 1ms/sample - loss: 0.2840 - tp: 18.0000 - fp: 0.0000e+00 - tn: 36.0000 - fn: 18.0000 - accuracy: 0.7500 - precision: 1.0000 - recall: 0.5000 - auc: 0.9599 - val_loss: 0.4663 - val_tp: 7.0000 - val_fp: 3.0000 - val_tn: 22.0000 - val_fn: 18.0000 - val_accuracy: 0.5800 - val_precision: 0.7000 - val_recall: 0.2800 - val_auc: 0.8312\n",
      "Epoch 8/100\n",
      "36/36 [==============================] - 0s 496us/sample - loss: 0.2832 - tp: 18.0000 - fp: 0.0000e+00 - tn: 36.0000 - fn: 18.0000 - accuracy: 0.7500 - precision: 1.0000 - recall: 0.5000 - auc: 0.9591 - val_loss: 0.4746 - val_tp: 7.0000 - val_fp: 3.0000 - val_tn: 22.0000 - val_fn: 18.0000 - val_accuracy: 0.5800 - val_precision: 0.7000 - val_recall: 0.2800 - val_auc: 0.8264\n",
      "Epoch 9/100\n",
      "36/36 [==============================] - 0s 543us/sample - loss: 0.2824 - tp: 18.0000 - fp: 0.0000e+00 - tn: 36.0000 - fn: 18.0000 - accuracy: 0.7500 - precision: 1.0000 - recall: 0.5000 - auc: 0.9583 - val_loss: 0.4800 - val_tp: 7.0000 - val_fp: 3.0000 - val_tn: 22.0000 - val_fn: 18.0000 - val_accuracy: 0.5800 - val_precision: 0.7000 - val_recall: 0.2800 - val_auc: 0.8168\n",
      "Epoch 10/100\n",
      "36/36 [==============================] - 0s 555us/sample - loss: 0.2817 - tp: 18.0000 - fp: 0.0000e+00 - tn: 36.0000 - fn: 18.0000 - accuracy: 0.7500 - precision: 1.0000 - recall: 0.5000 - auc: 0.9591 - val_loss: 0.4708 - val_tp: 7.0000 - val_fp: 3.0000 - val_tn: 22.0000 - val_fn: 18.0000 - val_accuracy: 0.5800 - val_precision: 0.7000 - val_recall: 0.2800 - val_auc: 0.8288\n",
      "Epoch 11/100\n",
      "36/36 [==============================] - 0s 547us/sample - loss: 0.2791 - tp: 18.0000 - fp: 0.0000e+00 - tn: 36.0000 - fn: 18.0000 - accuracy: 0.7500 - precision: 1.0000 - recall: 0.5000 - auc: 0.9614 - val_loss: 0.4518 - val_tp: 8.0000 - val_fp: 2.0000 - val_tn: 23.0000 - val_fn: 17.0000 - val_accuracy: 0.6200 - val_precision: 0.8000 - val_recall: 0.3200 - val_auc: 0.8448\n",
      "Epoch 12/100\n",
      "36/36 [==============================] - 0s 521us/sample - loss: 0.2772 - tp: 18.0000 - fp: 0.0000e+00 - tn: 36.0000 - fn: 18.0000 - accuracy: 0.7500 - precision: 1.0000 - recall: 0.5000 - auc: 0.9630 - val_loss: 0.4324 - val_tp: 9.0000 - val_fp: 2.0000 - val_tn: 23.0000 - val_fn: 16.0000 - val_accuracy: 0.6400 - val_precision: 0.8182 - val_recall: 0.3600 - val_auc: 0.8584\n",
      "Epoch 13/100\n",
      "36/36 [==============================] - 0s 652us/sample - loss: 0.2793 - tp: 17.0000 - fp: 0.0000e+00 - tn: 36.0000 - fn: 19.0000 - accuracy: 0.7361 - precision: 1.0000 - recall: 0.4722 - auc: 0.9630 - val_loss: 0.4237 - val_tp: 11.0000 - val_fp: 2.0000 - val_tn: 23.0000 - val_fn: 14.0000 - val_accuracy: 0.6800 - val_precision: 0.8462 - val_recall: 0.4400 - val_auc: 0.8632\n",
      "Epoch 14/100\n",
      "36/36 [==============================] - 0s 556us/sample - loss: 0.2795 - tp: 17.0000 - fp: 0.0000e+00 - tn: 36.0000 - fn: 19.0000 - accuracy: 0.7361 - precision: 1.0000 - recall: 0.4722 - auc: 0.9637 - val_loss: 0.4293 - val_tp: 11.0000 - val_fp: 2.0000 - val_tn: 23.0000 - val_fn: 14.0000 - val_accuracy: 0.6800 - val_precision: 0.8462 - val_recall: 0.4400 - val_auc: 0.8592\n",
      "Epoch 15/100\n",
      "36/36 [==============================] - 0s 572us/sample - loss: 0.2785 - tp: 17.0000 - fp: 0.0000e+00 - tn: 36.0000 - fn: 19.0000 - accuracy: 0.7361 - precision: 1.0000 - recall: 0.4722 - auc: 0.9633 - val_loss: 0.4448 - val_tp: 11.0000 - val_fp: 2.0000 - val_tn: 23.0000 - val_fn: 14.0000 - val_accuracy: 0.6800 - val_precision: 0.8462 - val_recall: 0.4400 - val_auc: 0.8504\n",
      "Epoch 16/100\n",
      "36/36 [==============================] - 0s 671us/sample - loss: 0.2757 - tp: 17.0000 - fp: 0.0000e+00 - tn: 36.0000 - fn: 19.0000 - accuracy: 0.7361 - precision: 1.0000 - recall: 0.4722 - auc: 0.9603 - val_loss: 0.4740 - val_tp: 11.0000 - val_fp: 5.0000 - val_tn: 20.0000 - val_fn: 14.0000 - val_accuracy: 0.6200 - val_precision: 0.6875 - val_recall: 0.4400 - val_auc: 0.8264\n",
      "Epoch 17/100\n",
      "36/36 [==============================] - 0s 611us/sample - loss: 0.2719 - tp: 18.0000 - fp: 0.0000e+00 - tn: 36.0000 - fn: 18.0000 - accuracy: 0.7500 - precision: 1.0000 - recall: 0.5000 - auc: 0.9595 - val_loss: 0.5110 - val_tp: 9.0000 - val_fp: 5.0000 - val_tn: 20.0000 - val_fn: 16.0000 - val_accuracy: 0.5800 - val_precision: 0.6429 - val_recall: 0.3600 - val_auc: 0.7808\n",
      "Epoch 18/100\n",
      "36/36 [==============================] - 0s 628us/sample - loss: 0.2744 - tp: 18.0000 - fp: 0.0000e+00 - tn: 36.0000 - fn: 18.0000 - accuracy: 0.7500 - precision: 1.0000 - recall: 0.5000 - auc: 0.9587 - val_loss: 0.5476 - val_tp: 7.0000 - val_fp: 5.0000 - val_tn: 20.0000 - val_fn: 18.0000 - val_accuracy: 0.5400 - val_precision: 0.5833 - val_recall: 0.2800 - val_auc: 0.7760\n",
      "Epoch 19/100\n",
      "36/36 [==============================] - 0s 594us/sample - loss: 0.2796 - tp: 18.0000 - fp: 0.0000e+00 - tn: 36.0000 - fn: 18.0000 - accuracy: 0.7500 - precision: 1.0000 - recall: 0.5000 - auc: 0.9522 - val_loss: 0.5715 - val_tp: 7.0000 - val_fp: 5.0000 - val_tn: 20.0000 - val_fn: 18.0000 - val_accuracy: 0.5400 - val_precision: 0.5833 - val_recall: 0.2800 - val_auc: 0.7672\n",
      "Epoch 20/100\n",
      "36/36 [==============================] - 0s 959us/sample - loss: 0.2847 - tp: 18.0000 - fp: 0.0000e+00 - tn: 36.0000 - fn: 18.0000 - accuracy: 0.7500 - precision: 1.0000 - recall: 0.5000 - auc: 0.9514 - val_loss: 0.5851 - val_tp: 7.0000 - val_fp: 5.0000 - val_tn: 20.0000 - val_fn: 18.0000 - val_accuracy: 0.5400 - val_precision: 0.5833 - val_recall: 0.2800 - val_auc: 0.7632\n",
      "Epoch 21/100\n",
      "36/36 [==============================] - 0s 822us/sample - loss: 0.2874 - tp: 18.0000 - fp: 0.0000e+00 - tn: 36.0000 - fn: 18.0000 - accuracy: 0.7500 - precision: 1.0000 - recall: 0.5000 - auc: 0.9498 - val_loss: 0.5929 - val_tp: 7.0000 - val_fp: 5.0000 - val_tn: 20.0000 - val_fn: 18.0000 - val_accuracy: 0.5400 - val_precision: 0.5833 - val_recall: 0.2800 - val_auc: 0.7632\n"
     ]
    },
    {
     "name": "stdout",
     "output_type": "stream",
     "text": [
      "Epoch 22/100\n",
      "36/36 [==============================] - 0s 1ms/sample - loss: 0.2885 - tp: 18.0000 - fp: 0.0000e+00 - tn: 36.0000 - fn: 18.0000 - accuracy: 0.7500 - precision: 1.0000 - recall: 0.5000 - auc: 0.9483 - val_loss: 0.5881 - val_tp: 7.0000 - val_fp: 5.0000 - val_tn: 20.0000 - val_fn: 18.0000 - val_accuracy: 0.5400 - val_precision: 0.5833 - val_recall: 0.2800 - val_auc: 0.7656\n",
      "Epoch 23/100\n",
      "36/36 [==============================] - 0s 1ms/sample - loss: 0.2832 - tp: 18.0000 - fp: 0.0000e+00 - tn: 36.0000 - fn: 18.0000 - accuracy: 0.7500 - precision: 1.0000 - recall: 0.5000 - auc: 0.9502 - val_loss: 0.5602 - val_tp: 9.0000 - val_fp: 5.0000 - val_tn: 20.0000 - val_fn: 16.0000 - val_accuracy: 0.5800 - val_precision: 0.6429 - val_recall: 0.3600 - val_auc: 0.7768\n",
      "Epoch 24/100\n",
      "36/36 [==============================] - 0s 979us/sample - loss: 0.2759 - tp: 18.0000 - fp: 0.0000e+00 - tn: 36.0000 - fn: 18.0000 - accuracy: 0.7500 - precision: 1.0000 - recall: 0.5000 - auc: 0.9541 - val_loss: 0.5230 - val_tp: 11.0000 - val_fp: 5.0000 - val_tn: 20.0000 - val_fn: 14.0000 - val_accuracy: 0.6200 - val_precision: 0.6875 - val_recall: 0.4400 - val_auc: 0.7808\n",
      "Epoch 25/100\n",
      "36/36 [==============================] - 0s 1ms/sample - loss: 0.2689 - tp: 18.0000 - fp: 0.0000e+00 - tn: 36.0000 - fn: 18.0000 - accuracy: 0.7500 - precision: 1.0000 - recall: 0.5000 - auc: 0.9610 - val_loss: 0.4898 - val_tp: 11.0000 - val_fp: 5.0000 - val_tn: 20.0000 - val_fn: 14.0000 - val_accuracy: 0.6200 - val_precision: 0.6875 - val_recall: 0.4400 - val_auc: 0.8080\n",
      "Epoch 26/100\n",
      "36/36 [==============================] - 0s 1ms/sample - loss: 0.2718 - tp: 18.0000 - fp: 0.0000e+00 - tn: 36.0000 - fn: 18.0000 - accuracy: 0.7500 - precision: 1.0000 - recall: 0.5000 - auc: 0.9587 - val_loss: 0.4684 - val_tp: 11.0000 - val_fp: 5.0000 - val_tn: 20.0000 - val_fn: 14.0000 - val_accuracy: 0.6200 - val_precision: 0.6875 - val_recall: 0.4400 - val_auc: 0.8328\n",
      "Epoch 27/100\n",
      "36/36 [==============================] - 0s 820us/sample - loss: 0.2734 - tp: 18.0000 - fp: 0.0000e+00 - tn: 36.0000 - fn: 18.0000 - accuracy: 0.7500 - precision: 1.0000 - recall: 0.5000 - auc: 0.9572 - val_loss: 0.4644 - val_tp: 13.0000 - val_fp: 4.0000 - val_tn: 21.0000 - val_fn: 12.0000 - val_accuracy: 0.6800 - val_precision: 0.7647 - val_recall: 0.5200 - val_auc: 0.8384\n",
      "Epoch 28/100\n",
      "36/36 [==============================] - 0s 1ms/sample - loss: 0.2743 - tp: 19.0000 - fp: 0.0000e+00 - tn: 36.0000 - fn: 17.0000 - accuracy: 0.7639 - precision: 1.0000 - recall: 0.5278 - auc: 0.9556 - val_loss: 0.4656 - val_tp: 13.0000 - val_fp: 5.0000 - val_tn: 20.0000 - val_fn: 12.0000 - val_accuracy: 0.6600 - val_precision: 0.7222 - val_recall: 0.5200 - val_auc: 0.8384\n",
      "Epoch 29/100\n",
      "36/36 [==============================] - 0s 1ms/sample - loss: 0.2743 - tp: 19.0000 - fp: 0.0000e+00 - tn: 36.0000 - fn: 17.0000 - accuracy: 0.7639 - precision: 1.0000 - recall: 0.5278 - auc: 0.9552 - val_loss: 0.4726 - val_tp: 13.0000 - val_fp: 5.0000 - val_tn: 20.0000 - val_fn: 12.0000 - val_accuracy: 0.6600 - val_precision: 0.7222 - val_recall: 0.5200 - val_auc: 0.8312\n",
      "Epoch 30/100\n",
      "36/36 [==============================] - 0s 1ms/sample - loss: 0.2721 - tp: 19.0000 - fp: 0.0000e+00 - tn: 36.0000 - fn: 17.0000 - accuracy: 0.7639 - precision: 1.0000 - recall: 0.5278 - auc: 0.9564 - val_loss: 0.4903 - val_tp: 11.0000 - val_fp: 5.0000 - val_tn: 20.0000 - val_fn: 14.0000 - val_accuracy: 0.6200 - val_precision: 0.6875 - val_recall: 0.4400 - val_auc: 0.8080\n",
      "Epoch 31/100\n",
      "36/36 [==============================] - 0s 1ms/sample - loss: 0.2699 - tp: 18.0000 - fp: 0.0000e+00 - tn: 36.0000 - fn: 18.0000 - accuracy: 0.7500 - precision: 1.0000 - recall: 0.5000 - auc: 0.9618 - val_loss: 0.5058 - val_tp: 11.0000 - val_fp: 5.0000 - val_tn: 20.0000 - val_fn: 14.0000 - val_accuracy: 0.6200 - val_precision: 0.6875 - val_recall: 0.4400 - val_auc: 0.7872\n",
      "Epoch 32/100\n",
      "36/36 [==============================] - 0s 1ms/sample - loss: 0.2670 - tp: 17.0000 - fp: 0.0000e+00 - tn: 36.0000 - fn: 19.0000 - accuracy: 0.7361 - precision: 1.0000 - recall: 0.4722 - auc: 0.9618 - val_loss: 0.5064 - val_tp: 11.0000 - val_fp: 5.0000 - val_tn: 20.0000 - val_fn: 14.0000 - val_accuracy: 0.6200 - val_precision: 0.6875 - val_recall: 0.4400 - val_auc: 0.7848\n",
      "Epoch 33/100\n",
      "36/36 [==============================] - 0s 1ms/sample - loss: 0.2657 - tp: 17.0000 - fp: 0.0000e+00 - tn: 36.0000 - fn: 19.0000 - accuracy: 0.7361 - precision: 1.0000 - recall: 0.4722 - auc: 0.9622 - val_loss: 0.5011 - val_tp: 11.0000 - val_fp: 5.0000 - val_tn: 20.0000 - val_fn: 14.0000 - val_accuracy: 0.6200 - val_precision: 0.6875 - val_recall: 0.4400 - val_auc: 0.7960\n",
      "Epoch 34/100\n",
      "36/36 [==============================] - 0s 1ms/sample - loss: 0.2657 - tp: 17.0000 - fp: 0.0000e+00 - tn: 36.0000 - fn: 19.0000 - accuracy: 0.7361 - precision: 1.0000 - recall: 0.4722 - auc: 0.9633 - val_loss: 0.5039 - val_tp: 11.0000 - val_fp: 5.0000 - val_tn: 20.0000 - val_fn: 14.0000 - val_accuracy: 0.6200 - val_precision: 0.6875 - val_recall: 0.4400 - val_auc: 0.7944\n",
      "Epoch 35/100\n",
      "36/36 [==============================] - 0s 1ms/sample - loss: 0.2648 - tp: 17.0000 - fp: 0.0000e+00 - tn: 36.0000 - fn: 19.0000 - accuracy: 0.7361 - precision: 1.0000 - recall: 0.4722 - auc: 0.9630 - val_loss: 0.5078 - val_tp: 11.0000 - val_fp: 5.0000 - val_tn: 20.0000 - val_fn: 14.0000 - val_accuracy: 0.6200 - val_precision: 0.6875 - val_recall: 0.4400 - val_auc: 0.7896\n",
      "Epoch 36/100\n",
      "36/36 [==============================] - 0s 1ms/sample - loss: 0.2632 - tp: 17.0000 - fp: 0.0000e+00 - tn: 36.0000 - fn: 19.0000 - accuracy: 0.7361 - precision: 1.0000 - recall: 0.4722 - auc: 0.9633 - val_loss: 0.5054 - val_tp: 11.0000 - val_fp: 5.0000 - val_tn: 20.0000 - val_fn: 14.0000 - val_accuracy: 0.6200 - val_precision: 0.6875 - val_recall: 0.4400 - val_auc: 0.7944\n",
      "Epoch 37/100\n",
      "36/36 [==============================] - 0s 1ms/sample - loss: 0.2627 - tp: 17.0000 - fp: 0.0000e+00 - tn: 36.0000 - fn: 19.0000 - accuracy: 0.7361 - precision: 1.0000 - recall: 0.4722 - auc: 0.9645 - val_loss: 0.5038 - val_tp: 11.0000 - val_fp: 5.0000 - val_tn: 20.0000 - val_fn: 14.0000 - val_accuracy: 0.6200 - val_precision: 0.6875 - val_recall: 0.4400 - val_auc: 0.7984\n",
      "Epoch 38/100\n",
      "36/36 [==============================] - 0s 1ms/sample - loss: 0.2621 - tp: 17.0000 - fp: 0.0000e+00 - tn: 36.0000 - fn: 19.0000 - accuracy: 0.7361 - precision: 1.0000 - recall: 0.4722 - auc: 0.9637 - val_loss: 0.5044 - val_tp: 11.0000 - val_fp: 5.0000 - val_tn: 20.0000 - val_fn: 14.0000 - val_accuracy: 0.6200 - val_precision: 0.6875 - val_recall: 0.4400 - val_auc: 0.7992\n",
      "Epoch 39/100\n",
      "36/36 [==============================] - 0s 1ms/sample - loss: 0.2614 - tp: 17.0000 - fp: 0.0000e+00 - tn: 36.0000 - fn: 19.0000 - accuracy: 0.7361 - precision: 1.0000 - recall: 0.4722 - auc: 0.9633 - val_loss: 0.5109 - val_tp: 11.0000 - val_fp: 5.0000 - val_tn: 20.0000 - val_fn: 14.0000 - val_accuracy: 0.6200 - val_precision: 0.6875 - val_recall: 0.4400 - val_auc: 0.7904\n",
      "Epoch 40/100\n",
      "36/36 [==============================] - 0s 1ms/sample - loss: 0.2603 - tp: 17.0000 - fp: 0.0000e+00 - tn: 36.0000 - fn: 19.0000 - accuracy: 0.7361 - precision: 1.0000 - recall: 0.4722 - auc: 0.9653 - val_loss: 0.5187 - val_tp: 11.0000 - val_fp: 5.0000 - val_tn: 20.0000 - val_fn: 14.0000 - val_accuracy: 0.6200 - val_precision: 0.6875 - val_recall: 0.4400 - val_auc: 0.7848\n",
      "Epoch 41/100\n",
      "36/36 [==============================] - 0s 846us/sample - loss: 0.2582 - tp: 17.0000 - fp: 0.0000e+00 - tn: 36.0000 - fn: 19.0000 - accuracy: 0.7361 - precision: 1.0000 - recall: 0.4722 - auc: 0.9664 - val_loss: 0.5196 - val_tp: 11.0000 - val_fp: 5.0000 - val_tn: 20.0000 - val_fn: 14.0000 - val_accuracy: 0.6200 - val_precision: 0.6875 - val_recall: 0.4400 - val_auc: 0.7848\n",
      "Epoch 42/100\n",
      "36/36 [==============================] - 0s 1ms/sample - loss: 0.2571 - tp: 17.0000 - fp: 0.0000e+00 - tn: 36.0000 - fn: 19.0000 - accuracy: 0.7361 - precision: 1.0000 - recall: 0.4722 - auc: 0.9680 - val_loss: 0.5213 - val_tp: 11.0000 - val_fp: 5.0000 - val_tn: 20.0000 - val_fn: 14.0000 - val_accuracy: 0.6200 - val_precision: 0.6875 - val_recall: 0.4400 - val_auc: 0.7840\n",
      "Epoch 43/100\n"
     ]
    },
    {
     "name": "stdout",
     "output_type": "stream",
     "text": [
      "36/36 [==============================] - 0s 1ms/sample - loss: 0.2563 - tp: 17.0000 - fp: 0.0000e+00 - tn: 36.0000 - fn: 19.0000 - accuracy: 0.7361 - precision: 1.0000 - recall: 0.4722 - auc: 0.9676 - val_loss: 0.5318 - val_tp: 11.0000 - val_fp: 5.0000 - val_tn: 20.0000 - val_fn: 14.0000 - val_accuracy: 0.6200 - val_precision: 0.6875 - val_recall: 0.4400 - val_auc: 0.7824\n",
      "Epoch 44/100\n",
      "36/36 [==============================] - 0s 1ms/sample - loss: 0.2552 - tp: 17.0000 - fp: 0.0000e+00 - tn: 36.0000 - fn: 19.0000 - accuracy: 0.7361 - precision: 1.0000 - recall: 0.4722 - auc: 0.9668 - val_loss: 0.5452 - val_tp: 11.0000 - val_fp: 5.0000 - val_tn: 20.0000 - val_fn: 14.0000 - val_accuracy: 0.6200 - val_precision: 0.6875 - val_recall: 0.4400 - val_auc: 0.7824\n",
      "Epoch 45/100\n",
      "36/36 [==============================] - 0s 1ms/sample - loss: 0.2546 - tp: 17.0000 - fp: 0.0000e+00 - tn: 36.0000 - fn: 19.0000 - accuracy: 0.7361 - precision: 1.0000 - recall: 0.4722 - auc: 0.9657 - val_loss: 0.5412 - val_tp: 11.0000 - val_fp: 5.0000 - val_tn: 20.0000 - val_fn: 14.0000 - val_accuracy: 0.6200 - val_precision: 0.6875 - val_recall: 0.4400 - val_auc: 0.7824\n",
      "Epoch 46/100\n",
      "36/36 [==============================] - 0s 1ms/sample - loss: 0.2531 - tp: 17.0000 - fp: 0.0000e+00 - tn: 36.0000 - fn: 19.0000 - accuracy: 0.7361 - precision: 1.0000 - recall: 0.4722 - auc: 0.9672 - val_loss: 0.5282 - val_tp: 11.0000 - val_fp: 5.0000 - val_tn: 20.0000 - val_fn: 14.0000 - val_accuracy: 0.6200 - val_precision: 0.6875 - val_recall: 0.4400 - val_auc: 0.7832\n",
      "Epoch 47/100\n",
      "36/36 [==============================] - 0s 1ms/sample - loss: 0.2528 - tp: 17.0000 - fp: 0.0000e+00 - tn: 36.0000 - fn: 19.0000 - accuracy: 0.7361 - precision: 1.0000 - recall: 0.4722 - auc: 0.9695 - val_loss: 0.5214 - val_tp: 11.0000 - val_fp: 5.0000 - val_tn: 20.0000 - val_fn: 14.0000 - val_accuracy: 0.6200 - val_precision: 0.6875 - val_recall: 0.4400 - val_auc: 0.7888\n",
      "Epoch 48/100\n",
      "36/36 [==============================] - 0s 955us/sample - loss: 0.2531 - tp: 17.0000 - fp: 0.0000e+00 - tn: 36.0000 - fn: 19.0000 - accuracy: 0.7361 - precision: 1.0000 - recall: 0.4722 - auc: 0.9691 - val_loss: 0.5188 - val_tp: 11.0000 - val_fp: 5.0000 - val_tn: 20.0000 - val_fn: 14.0000 - val_accuracy: 0.6200 - val_precision: 0.6875 - val_recall: 0.4400 - val_auc: 0.7928\n",
      "Epoch 49/100\n",
      "36/36 [==============================] - 0s 877us/sample - loss: 0.2532 - tp: 17.0000 - fp: 0.0000e+00 - tn: 36.0000 - fn: 19.0000 - accuracy: 0.7361 - precision: 1.0000 - recall: 0.4722 - auc: 0.9691 - val_loss: 0.5303 - val_tp: 11.0000 - val_fp: 5.0000 - val_tn: 20.0000 - val_fn: 14.0000 - val_accuracy: 0.6200 - val_precision: 0.6875 - val_recall: 0.4400 - val_auc: 0.7832\n",
      "Epoch 50/100\n",
      "36/36 [==============================] - 0s 897us/sample - loss: 0.2509 - tp: 17.0000 - fp: 0.0000e+00 - tn: 36.0000 - fn: 19.0000 - accuracy: 0.7361 - precision: 1.0000 - recall: 0.4722 - auc: 0.9703 - val_loss: 0.5528 - val_tp: 11.0000 - val_fp: 5.0000 - val_tn: 20.0000 - val_fn: 14.0000 - val_accuracy: 0.6200 - val_precision: 0.6875 - val_recall: 0.4400 - val_auc: 0.7816\n",
      "Epoch 51/100\n",
      "36/36 [==============================] - 0s 1ms/sample - loss: 0.2505 - tp: 17.0000 - fp: 0.0000e+00 - tn: 36.0000 - fn: 19.0000 - accuracy: 0.7361 - precision: 1.0000 - recall: 0.4722 - auc: 0.9691 - val_loss: 0.5633 - val_tp: 10.0000 - val_fp: 5.0000 - val_tn: 20.0000 - val_fn: 15.0000 - val_accuracy: 0.6000 - val_precision: 0.6667 - val_recall: 0.4000 - val_auc: 0.7800\n",
      "Epoch 52/100\n",
      "36/36 [==============================] - 0s 902us/sample - loss: 0.2485 - tp: 18.0000 - fp: 0.0000e+00 - tn: 36.0000 - fn: 18.0000 - accuracy: 0.7500 - precision: 1.0000 - recall: 0.5000 - auc: 0.9691 - val_loss: 0.5598 - val_tp: 10.0000 - val_fp: 5.0000 - val_tn: 20.0000 - val_fn: 15.0000 - val_accuracy: 0.6000 - val_precision: 0.6667 - val_recall: 0.4000 - val_auc: 0.7816\n",
      "Epoch 53/100\n",
      "36/36 [==============================] - 0s 942us/sample - loss: 0.2473 - tp: 18.0000 - fp: 0.0000e+00 - tn: 36.0000 - fn: 18.0000 - accuracy: 0.7500 - precision: 1.0000 - recall: 0.5000 - auc: 0.9699 - val_loss: 0.5489 - val_tp: 11.0000 - val_fp: 5.0000 - val_tn: 20.0000 - val_fn: 14.0000 - val_accuracy: 0.6200 - val_precision: 0.6875 - val_recall: 0.4400 - val_auc: 0.7816\n",
      "Epoch 54/100\n",
      "36/36 [==============================] - 0s 1ms/sample - loss: 0.2468 - tp: 17.0000 - fp: 0.0000e+00 - tn: 36.0000 - fn: 19.0000 - accuracy: 0.7361 - precision: 1.0000 - recall: 0.4722 - auc: 0.9699 - val_loss: 0.5329 - val_tp: 11.0000 - val_fp: 5.0000 - val_tn: 20.0000 - val_fn: 14.0000 - val_accuracy: 0.6200 - val_precision: 0.6875 - val_recall: 0.4400 - val_auc: 0.7856\n",
      "Epoch 55/100\n",
      "36/36 [==============================] - 0s 1ms/sample - loss: 0.2484 - tp: 17.0000 - fp: 0.0000e+00 - tn: 36.0000 - fn: 19.0000 - accuracy: 0.7361 - precision: 1.0000 - recall: 0.4722 - auc: 0.9695 - val_loss: 0.5251 - val_tp: 11.0000 - val_fp: 5.0000 - val_tn: 20.0000 - val_fn: 14.0000 - val_accuracy: 0.6200 - val_precision: 0.6875 - val_recall: 0.4400 - val_auc: 0.7880\n",
      "Epoch 56/100\n",
      "36/36 [==============================] - 0s 978us/sample - loss: 0.2482 - tp: 17.0000 - fp: 0.0000e+00 - tn: 36.0000 - fn: 19.0000 - accuracy: 0.7361 - precision: 1.0000 - recall: 0.4722 - auc: 0.9695 - val_loss: 0.5231 - val_tp: 11.0000 - val_fp: 5.0000 - val_tn: 20.0000 - val_fn: 14.0000 - val_accuracy: 0.6200 - val_precision: 0.6875 - val_recall: 0.4400 - val_auc: 0.7928\n",
      "Epoch 57/100\n",
      "36/36 [==============================] - 0s 901us/sample - loss: 0.2481 - tp: 17.0000 - fp: 0.0000e+00 - tn: 36.0000 - fn: 19.0000 - accuracy: 0.7361 - precision: 1.0000 - recall: 0.4722 - auc: 0.9699 - val_loss: 0.5183 - val_tp: 11.0000 - val_fp: 5.0000 - val_tn: 20.0000 - val_fn: 14.0000 - val_accuracy: 0.6200 - val_precision: 0.6875 - val_recall: 0.4400 - val_auc: 0.7992\n",
      "Epoch 58/100\n",
      "36/36 [==============================] - 0s 977us/sample - loss: 0.2489 - tp: 17.0000 - fp: 0.0000e+00 - tn: 36.0000 - fn: 19.0000 - accuracy: 0.7361 - precision: 1.0000 - recall: 0.4722 - auc: 0.9703 - val_loss: 0.5164 - val_tp: 11.0000 - val_fp: 5.0000 - val_tn: 20.0000 - val_fn: 14.0000 - val_accuracy: 0.6200 - val_precision: 0.6875 - val_recall: 0.4400 - val_auc: 0.8008\n",
      "Epoch 59/100\n",
      "36/36 [==============================] - 0s 926us/sample - loss: 0.2492 - tp: 17.0000 - fp: 0.0000e+00 - tn: 36.0000 - fn: 19.0000 - accuracy: 0.7361 - precision: 1.0000 - recall: 0.4722 - auc: 0.9707 - val_loss: 0.5183 - val_tp: 11.0000 - val_fp: 5.0000 - val_tn: 20.0000 - val_fn: 14.0000 - val_accuracy: 0.6200 - val_precision: 0.6875 - val_recall: 0.4400 - val_auc: 0.7992\n",
      "Epoch 60/100\n",
      "36/36 [==============================] - 0s 866us/sample - loss: 0.2488 - tp: 17.0000 - fp: 0.0000e+00 - tn: 36.0000 - fn: 19.0000 - accuracy: 0.7361 - precision: 1.0000 - recall: 0.4722 - auc: 0.9711 - val_loss: 0.5218 - val_tp: 11.0000 - val_fp: 5.0000 - val_tn: 20.0000 - val_fn: 14.0000 - val_accuracy: 0.6200 - val_precision: 0.6875 - val_recall: 0.4400 - val_auc: 0.7976\n",
      "Epoch 61/100\n",
      "36/36 [==============================] - 0s 712us/sample - loss: 0.2481 - tp: 17.0000 - fp: 0.0000e+00 - tn: 36.0000 - fn: 19.0000 - accuracy: 0.7361 - precision: 1.0000 - recall: 0.4722 - auc: 0.9715 - val_loss: 0.5250 - val_tp: 11.0000 - val_fp: 5.0000 - val_tn: 20.0000 - val_fn: 14.0000 - val_accuracy: 0.6200 - val_precision: 0.6875 - val_recall: 0.4400 - val_auc: 0.7928\n",
      "Epoch 62/100\n",
      "36/36 [==============================] - 0s 1ms/sample - loss: 0.2476 - tp: 17.0000 - fp: 0.0000e+00 - tn: 36.0000 - fn: 19.0000 - accuracy: 0.7361 - precision: 1.0000 - recall: 0.4722 - auc: 0.9715 - val_loss: 0.5267 - val_tp: 11.0000 - val_fp: 5.0000 - val_tn: 20.0000 - val_fn: 14.0000 - val_accuracy: 0.6200 - val_precision: 0.6875 - val_recall: 0.4400 - val_auc: 0.7912\n",
      "Epoch 63/100\n",
      "36/36 [==============================] - 0s 654us/sample - loss: 0.2477 - tp: 18.0000 - fp: 0.0000e+00 - tn: 36.0000 - fn: 18.0000 - accuracy: 0.7500 - precision: 1.0000 - recall: 0.5000 - auc: 0.9703 - val_loss: 0.5315 - val_tp: 11.0000 - val_fp: 5.0000 - val_tn: 20.0000 - val_fn: 14.0000 - val_accuracy: 0.6200 - val_precision: 0.6875 - val_recall: 0.4400 - val_auc: 0.7872\n",
      "Epoch 64/100\n"
     ]
    },
    {
     "name": "stdout",
     "output_type": "stream",
     "text": [
      "36/36 [==============================] - 0s 1ms/sample - loss: 0.2461 - tp: 18.0000 - fp: 0.0000e+00 - tn: 36.0000 - fn: 18.0000 - accuracy: 0.7500 - precision: 1.0000 - recall: 0.5000 - auc: 0.9715 - val_loss: 0.5460 - val_tp: 11.0000 - val_fp: 5.0000 - val_tn: 20.0000 - val_fn: 14.0000 - val_accuracy: 0.6200 - val_precision: 0.6875 - val_recall: 0.4400 - val_auc: 0.7840\n",
      "Epoch 65/100\n",
      "36/36 [==============================] - 0s 1ms/sample - loss: 0.2420 - tp: 18.0000 - fp: 0.0000e+00 - tn: 36.0000 - fn: 18.0000 - accuracy: 0.7500 - precision: 1.0000 - recall: 0.5000 - auc: 0.9711 - val_loss: 0.5700 - val_tp: 11.0000 - val_fp: 5.0000 - val_tn: 20.0000 - val_fn: 14.0000 - val_accuracy: 0.6200 - val_precision: 0.6875 - val_recall: 0.4400 - val_auc: 0.7808\n",
      "Epoch 66/100\n",
      "36/36 [==============================] - 0s 1ms/sample - loss: 0.2395 - tp: 17.0000 - fp: 0.0000e+00 - tn: 36.0000 - fn: 19.0000 - accuracy: 0.7361 - precision: 1.0000 - recall: 0.4722 - auc: 0.9707 - val_loss: 0.5972 - val_tp: 11.0000 - val_fp: 5.0000 - val_tn: 20.0000 - val_fn: 14.0000 - val_accuracy: 0.6200 - val_precision: 0.6875 - val_recall: 0.4400 - val_auc: 0.7760\n",
      "Epoch 67/100\n",
      "36/36 [==============================] - 0s 1ms/sample - loss: 0.2411 - tp: 18.0000 - fp: 0.0000e+00 - tn: 36.0000 - fn: 18.0000 - accuracy: 0.7500 - precision: 1.0000 - recall: 0.5000 - auc: 0.9703 - val_loss: 0.6110 - val_tp: 11.0000 - val_fp: 5.0000 - val_tn: 20.0000 - val_fn: 14.0000 - val_accuracy: 0.6200 - val_precision: 0.6875 - val_recall: 0.4400 - val_auc: 0.7728\n",
      "Epoch 68/100\n",
      "36/36 [==============================] - 0s 1ms/sample - loss: 0.2403 - tp: 18.0000 - fp: 0.0000e+00 - tn: 36.0000 - fn: 18.0000 - accuracy: 0.7500 - precision: 1.0000 - recall: 0.5000 - auc: 0.9699 - val_loss: 0.6109 - val_tp: 11.0000 - val_fp: 5.0000 - val_tn: 20.0000 - val_fn: 14.0000 - val_accuracy: 0.6200 - val_precision: 0.6875 - val_recall: 0.4400 - val_auc: 0.7728\n",
      "Epoch 69/100\n",
      "36/36 [==============================] - 0s 1ms/sample - loss: 0.2393 - tp: 18.0000 - fp: 0.0000e+00 - tn: 36.0000 - fn: 18.0000 - accuracy: 0.7500 - precision: 1.0000 - recall: 0.5000 - auc: 0.9699 - val_loss: 0.6074 - val_tp: 11.0000 - val_fp: 5.0000 - val_tn: 20.0000 - val_fn: 14.0000 - val_accuracy: 0.6200 - val_precision: 0.6875 - val_recall: 0.4400 - val_auc: 0.7752\n",
      "Epoch 70/100\n",
      "36/36 [==============================] - 0s 987us/sample - loss: 0.2380 - tp: 18.0000 - fp: 0.0000e+00 - tn: 36.0000 - fn: 18.0000 - accuracy: 0.7500 - precision: 1.0000 - recall: 0.5000 - auc: 0.9699 - val_loss: 0.6047 - val_tp: 11.0000 - val_fp: 5.0000 - val_tn: 20.0000 - val_fn: 14.0000 - val_accuracy: 0.6200 - val_precision: 0.6875 - val_recall: 0.4400 - val_auc: 0.7752\n",
      "Epoch 71/100\n",
      "36/36 [==============================] - 0s 1ms/sample - loss: 0.2368 - tp: 18.0000 - fp: 0.0000e+00 - tn: 36.0000 - fn: 18.0000 - accuracy: 0.7500 - precision: 1.0000 - recall: 0.5000 - auc: 0.9699 - val_loss: 0.6010 - val_tp: 11.0000 - val_fp: 5.0000 - val_tn: 20.0000 - val_fn: 14.0000 - val_accuracy: 0.6200 - val_precision: 0.6875 - val_recall: 0.4400 - val_auc: 0.7768\n",
      "Epoch 72/100\n",
      "36/36 [==============================] - 0s 1ms/sample - loss: 0.2353 - tp: 18.0000 - fp: 0.0000e+00 - tn: 36.0000 - fn: 18.0000 - accuracy: 0.7500 - precision: 1.0000 - recall: 0.5000 - auc: 0.9707 - val_loss: 0.5852 - val_tp: 11.0000 - val_fp: 5.0000 - val_tn: 20.0000 - val_fn: 14.0000 - val_accuracy: 0.6200 - val_precision: 0.6875 - val_recall: 0.4400 - val_auc: 0.7808\n",
      "Epoch 73/100\n",
      "36/36 [==============================] - 0s 1ms/sample - loss: 0.2358 - tp: 19.0000 - fp: 0.0000e+00 - tn: 36.0000 - fn: 17.0000 - accuracy: 0.7639 - precision: 1.0000 - recall: 0.5278 - auc: 0.9715 - val_loss: 0.5629 - val_tp: 13.0000 - val_fp: 5.0000 - val_tn: 20.0000 - val_fn: 12.0000 - val_accuracy: 0.6600 - val_precision: 0.7222 - val_recall: 0.5200 - val_auc: 0.7840\n",
      "Epoch 74/100\n",
      "36/36 [==============================] - 0s 1ms/sample - loss: 0.2382 - tp: 19.0000 - fp: 0.0000e+00 - tn: 36.0000 - fn: 17.0000 - accuracy: 0.7639 - precision: 1.0000 - recall: 0.5278 - auc: 0.9718 - val_loss: 0.5439 - val_tp: 13.0000 - val_fp: 5.0000 - val_tn: 20.0000 - val_fn: 12.0000 - val_accuracy: 0.6600 - val_precision: 0.7222 - val_recall: 0.5200 - val_auc: 0.7872\n",
      "Epoch 75/100\n",
      "36/36 [==============================] - 0s 1ms/sample - loss: 0.2474 - tp: 19.0000 - fp: 0.0000e+00 - tn: 36.0000 - fn: 17.0000 - accuracy: 0.7639 - precision: 1.0000 - recall: 0.5278 - auc: 0.9715 - val_loss: 0.5332 - val_tp: 13.0000 - val_fp: 5.0000 - val_tn: 20.0000 - val_fn: 12.0000 - val_accuracy: 0.6600 - val_precision: 0.7222 - val_recall: 0.5200 - val_auc: 0.7888\n",
      "Epoch 76/100\n",
      "36/36 [==============================] - 0s 1ms/sample - loss: 0.2517 - tp: 19.0000 - fp: 0.0000e+00 - tn: 36.0000 - fn: 17.0000 - accuracy: 0.7639 - precision: 1.0000 - recall: 0.5278 - auc: 0.9645 - val_loss: 0.5384 - val_tp: 13.0000 - val_fp: 5.0000 - val_tn: 20.0000 - val_fn: 12.0000 - val_accuracy: 0.6600 - val_precision: 0.7222 - val_recall: 0.5200 - val_auc: 0.7888\n",
      "Epoch 77/100\n",
      "36/36 [==============================] - 0s 1ms/sample - loss: 0.2491 - tp: 19.0000 - fp: 0.0000e+00 - tn: 36.0000 - fn: 17.0000 - accuracy: 0.7639 - precision: 1.0000 - recall: 0.5278 - auc: 0.9688 - val_loss: 0.5491 - val_tp: 13.0000 - val_fp: 5.0000 - val_tn: 20.0000 - val_fn: 12.0000 - val_accuracy: 0.6600 - val_precision: 0.7222 - val_recall: 0.5200 - val_auc: 0.7872\n",
      "Epoch 78/100\n",
      "36/36 [==============================] - 0s 1ms/sample - loss: 0.2438 - tp: 19.0000 - fp: 0.0000e+00 - tn: 36.0000 - fn: 17.0000 - accuracy: 0.7639 - precision: 1.0000 - recall: 0.5278 - auc: 0.9711 - val_loss: 0.5585 - val_tp: 13.0000 - val_fp: 5.0000 - val_tn: 20.0000 - val_fn: 12.0000 - val_accuracy: 0.6600 - val_precision: 0.7222 - val_recall: 0.5200 - val_auc: 0.7864\n",
      "Epoch 79/100\n",
      "36/36 [==============================] - 0s 1ms/sample - loss: 0.2393 - tp: 19.0000 - fp: 0.0000e+00 - tn: 36.0000 - fn: 17.0000 - accuracy: 0.7639 - precision: 1.0000 - recall: 0.5278 - auc: 0.9722 - val_loss: 0.5697 - val_tp: 12.0000 - val_fp: 5.0000 - val_tn: 20.0000 - val_fn: 13.0000 - val_accuracy: 0.6400 - val_precision: 0.7059 - val_recall: 0.4800 - val_auc: 0.7832\n",
      "Epoch 80/100\n",
      "36/36 [==============================] - 0s 1ms/sample - loss: 0.2355 - tp: 19.0000 - fp: 0.0000e+00 - tn: 36.0000 - fn: 17.0000 - accuracy: 0.7639 - precision: 1.0000 - recall: 0.5278 - auc: 0.9715 - val_loss: 0.5860 - val_tp: 11.0000 - val_fp: 5.0000 - val_tn: 20.0000 - val_fn: 14.0000 - val_accuracy: 0.6200 - val_precision: 0.6875 - val_recall: 0.4400 - val_auc: 0.7816\n",
      "Epoch 81/100\n",
      "36/36 [==============================] - 0s 1ms/sample - loss: 0.2353 - tp: 17.0000 - fp: 0.0000e+00 - tn: 36.0000 - fn: 19.0000 - accuracy: 0.7361 - precision: 1.0000 - recall: 0.4722 - auc: 0.9718 - val_loss: 0.5939 - val_tp: 11.0000 - val_fp: 5.0000 - val_tn: 20.0000 - val_fn: 14.0000 - val_accuracy: 0.6200 - val_precision: 0.6875 - val_recall: 0.4400 - val_auc: 0.7792\n",
      "Epoch 82/100\n",
      "36/36 [==============================] - 0s 1ms/sample - loss: 0.2319 - tp: 17.0000 - fp: 0.0000e+00 - tn: 36.0000 - fn: 19.0000 - accuracy: 0.7361 - precision: 1.0000 - recall: 0.4722 - auc: 0.9722 - val_loss: 0.5933 - val_tp: 11.0000 - val_fp: 5.0000 - val_tn: 20.0000 - val_fn: 14.0000 - val_accuracy: 0.6200 - val_precision: 0.6875 - val_recall: 0.4400 - val_auc: 0.7792\n",
      "Epoch 83/100\n",
      "36/36 [==============================] - 0s 871us/sample - loss: 0.2313 - tp: 17.0000 - fp: 0.0000e+00 - tn: 36.0000 - fn: 19.0000 - accuracy: 0.7361 - precision: 1.0000 - recall: 0.4722 - auc: 0.9722 - val_loss: 0.5963 - val_tp: 11.0000 - val_fp: 5.0000 - val_tn: 20.0000 - val_fn: 14.0000 - val_accuracy: 0.6200 - val_precision: 0.6875 - val_recall: 0.4400 - val_auc: 0.7792\n",
      "Epoch 84/100\n",
      "36/36 [==============================] - 0s 934us/sample - loss: 0.2306 - tp: 17.0000 - fp: 0.0000e+00 - tn: 36.0000 - fn: 19.0000 - accuracy: 0.7361 - precision: 1.0000 - recall: 0.4722 - auc: 0.9730 - val_loss: 0.5980 - val_tp: 11.0000 - val_fp: 5.0000 - val_tn: 20.0000 - val_fn: 14.0000 - val_accuracy: 0.6200 - val_precision: 0.6875 - val_recall: 0.4400 - val_auc: 0.7792\n",
      "Epoch 85/100\n"
     ]
    },
    {
     "name": "stdout",
     "output_type": "stream",
     "text": [
      "36/36 [==============================] - 0s 689us/sample - loss: 0.2302 - tp: 17.0000 - fp: 0.0000e+00 - tn: 36.0000 - fn: 19.0000 - accuracy: 0.7361 - precision: 1.0000 - recall: 0.4722 - auc: 0.9722 - val_loss: 0.6016 - val_tp: 11.0000 - val_fp: 5.0000 - val_tn: 20.0000 - val_fn: 14.0000 - val_accuracy: 0.6200 - val_precision: 0.6875 - val_recall: 0.4400 - val_auc: 0.7792\n",
      "Epoch 86/100\n",
      "36/36 [==============================] - 0s 796us/sample - loss: 0.2305 - tp: 17.0000 - fp: 0.0000e+00 - tn: 36.0000 - fn: 19.0000 - accuracy: 0.7361 - precision: 1.0000 - recall: 0.4722 - auc: 0.9722 - val_loss: 0.6006 - val_tp: 11.0000 - val_fp: 5.0000 - val_tn: 20.0000 - val_fn: 14.0000 - val_accuracy: 0.6200 - val_precision: 0.6875 - val_recall: 0.4400 - val_auc: 0.7792\n",
      "Epoch 87/100\n",
      "36/36 [==============================] - 0s 787us/sample - loss: 0.2292 - tp: 17.0000 - fp: 0.0000e+00 - tn: 36.0000 - fn: 19.0000 - accuracy: 0.7361 - precision: 1.0000 - recall: 0.4722 - auc: 0.9726 - val_loss: 0.5911 - val_tp: 11.0000 - val_fp: 5.0000 - val_tn: 20.0000 - val_fn: 14.0000 - val_accuracy: 0.6200 - val_precision: 0.6875 - val_recall: 0.4400 - val_auc: 0.7792\n",
      "Epoch 88/100\n",
      "36/36 [==============================] - 0s 1ms/sample - loss: 0.2300 - tp: 17.0000 - fp: 0.0000e+00 - tn: 36.0000 - fn: 19.0000 - accuracy: 0.7361 - precision: 1.0000 - recall: 0.4722 - auc: 0.9730 - val_loss: 0.5796 - val_tp: 11.0000 - val_fp: 5.0000 - val_tn: 20.0000 - val_fn: 14.0000 - val_accuracy: 0.6200 - val_precision: 0.6875 - val_recall: 0.4400 - val_auc: 0.7808\n",
      "Epoch 89/100\n",
      "36/36 [==============================] - 0s 1ms/sample - loss: 0.2326 - tp: 17.0000 - fp: 0.0000e+00 - tn: 36.0000 - fn: 19.0000 - accuracy: 0.7361 - precision: 1.0000 - recall: 0.4722 - auc: 0.9718 - val_loss: 0.5684 - val_tp: 11.0000 - val_fp: 5.0000 - val_tn: 20.0000 - val_fn: 14.0000 - val_accuracy: 0.6200 - val_precision: 0.6875 - val_recall: 0.4400 - val_auc: 0.7840\n",
      "Epoch 90/100\n",
      "36/36 [==============================] - 0s 1ms/sample - loss: 0.2369 - tp: 17.0000 - fp: 0.0000e+00 - tn: 36.0000 - fn: 19.0000 - accuracy: 0.7361 - precision: 1.0000 - recall: 0.4722 - auc: 0.9699 - val_loss: 0.5714 - val_tp: 11.0000 - val_fp: 5.0000 - val_tn: 20.0000 - val_fn: 14.0000 - val_accuracy: 0.6200 - val_precision: 0.6875 - val_recall: 0.4400 - val_auc: 0.7824\n",
      "Epoch 91/100\n",
      "36/36 [==============================] - 0s 1ms/sample - loss: 0.2340 - tp: 17.0000 - fp: 0.0000e+00 - tn: 36.0000 - fn: 19.0000 - accuracy: 0.7361 - precision: 1.0000 - recall: 0.4722 - auc: 0.9707 - val_loss: 0.5892 - val_tp: 11.0000 - val_fp: 5.0000 - val_tn: 20.0000 - val_fn: 14.0000 - val_accuracy: 0.6200 - val_precision: 0.6875 - val_recall: 0.4400 - val_auc: 0.7808\n",
      "Epoch 92/100\n",
      "36/36 [==============================] - 0s 1ms/sample - loss: 0.2303 - tp: 17.0000 - fp: 0.0000e+00 - tn: 36.0000 - fn: 19.0000 - accuracy: 0.7361 - precision: 1.0000 - recall: 0.4722 - auc: 0.9730 - val_loss: 0.6049 - val_tp: 11.0000 - val_fp: 5.0000 - val_tn: 20.0000 - val_fn: 14.0000 - val_accuracy: 0.6200 - val_precision: 0.6875 - val_recall: 0.4400 - val_auc: 0.7784\n",
      "Epoch 93/100\n",
      "36/36 [==============================] - 0s 1ms/sample - loss: 0.2261 - tp: 17.0000 - fp: 0.0000e+00 - tn: 36.0000 - fn: 19.0000 - accuracy: 0.7361 - precision: 1.0000 - recall: 0.4722 - auc: 0.9726 - val_loss: 0.6193 - val_tp: 11.0000 - val_fp: 5.0000 - val_tn: 20.0000 - val_fn: 14.0000 - val_accuracy: 0.6200 - val_precision: 0.6875 - val_recall: 0.4400 - val_auc: 0.7696\n",
      "Epoch 94/100\n",
      "36/36 [==============================] - 0s 1ms/sample - loss: 0.2246 - tp: 18.0000 - fp: 0.0000e+00 - tn: 36.0000 - fn: 18.0000 - accuracy: 0.7500 - precision: 1.0000 - recall: 0.5000 - auc: 0.9722 - val_loss: 0.6382 - val_tp: 11.0000 - val_fp: 5.0000 - val_tn: 20.0000 - val_fn: 14.0000 - val_accuracy: 0.6200 - val_precision: 0.6875 - val_recall: 0.4400 - val_auc: 0.7656\n",
      "Epoch 95/100\n",
      "36/36 [==============================] - 0s 1ms/sample - loss: 0.2274 - tp: 18.0000 - fp: 0.0000e+00 - tn: 36.0000 - fn: 18.0000 - accuracy: 0.7500 - precision: 1.0000 - recall: 0.5000 - auc: 0.9711 - val_loss: 0.6490 - val_tp: 11.0000 - val_fp: 5.0000 - val_tn: 20.0000 - val_fn: 14.0000 - val_accuracy: 0.6200 - val_precision: 0.6875 - val_recall: 0.4400 - val_auc: 0.7568\n",
      "Epoch 96/100\n",
      "36/36 [==============================] - 0s 1ms/sample - loss: 0.2264 - tp: 18.0000 - fp: 0.0000e+00 - tn: 36.0000 - fn: 18.0000 - accuracy: 0.7500 - precision: 1.0000 - recall: 0.5000 - auc: 0.9718 - val_loss: 0.6459 - val_tp: 11.0000 - val_fp: 5.0000 - val_tn: 20.0000 - val_fn: 14.0000 - val_accuracy: 0.6200 - val_precision: 0.6875 - val_recall: 0.4400 - val_auc: 0.7616\n",
      "Epoch 97/100\n",
      "36/36 [==============================] - 0s 899us/sample - loss: 0.2251 - tp: 18.0000 - fp: 0.0000e+00 - tn: 36.0000 - fn: 18.0000 - accuracy: 0.7500 - precision: 1.0000 - recall: 0.5000 - auc: 0.9711 - val_loss: 0.6404 - val_tp: 11.0000 - val_fp: 5.0000 - val_tn: 20.0000 - val_fn: 14.0000 - val_accuracy: 0.6200 - val_precision: 0.6875 - val_recall: 0.4400 - val_auc: 0.7656\n",
      "Epoch 98/100\n",
      "36/36 [==============================] - 0s 972us/sample - loss: 0.2227 - tp: 18.0000 - fp: 0.0000e+00 - tn: 36.0000 - fn: 18.0000 - accuracy: 0.7500 - precision: 1.0000 - recall: 0.5000 - auc: 0.9711 - val_loss: 0.6282 - val_tp: 11.0000 - val_fp: 5.0000 - val_tn: 20.0000 - val_fn: 14.0000 - val_accuracy: 0.6200 - val_precision: 0.6875 - val_recall: 0.4400 - val_auc: 0.7680\n",
      "Epoch 99/100\n",
      "36/36 [==============================] - 0s 1ms/sample - loss: 0.2209 - tp: 19.0000 - fp: 0.0000e+00 - tn: 36.0000 - fn: 17.0000 - accuracy: 0.7639 - precision: 1.0000 - recall: 0.5278 - auc: 0.9722 - val_loss: 0.6083 - val_tp: 13.0000 - val_fp: 5.0000 - val_tn: 20.0000 - val_fn: 12.0000 - val_accuracy: 0.6600 - val_precision: 0.7222 - val_recall: 0.5200 - val_auc: 0.7760\n",
      "Epoch 100/100\n",
      "36/36 [==============================] - 0s 1ms/sample - loss: 0.2227 - tp: 20.0000 - fp: 0.0000e+00 - tn: 36.0000 - fn: 16.0000 - accuracy: 0.7778 - precision: 1.0000 - recall: 0.5556 - auc: 0.9738 - val_loss: 0.5933 - val_tp: 13.0000 - val_fp: 5.0000 - val_tn: 20.0000 - val_fn: 12.0000 - val_accuracy: 0.6600 - val_precision: 0.7222 - val_recall: 0.5200 - val_auc: 0.7808\n"
     ]
    }
   ],
   "source": [
    "res = model.fit(train_x, train_y, batch_size=32, epochs=100, validation_split=0.4)"
   ]
  },
  {
   "cell_type": "code",
   "execution_count": 31,
   "metadata": {},
   "outputs": [],
   "source": [
    "def pred(y_p):\n",
    "    y_pred = []\n",
    "\n",
    "    for i in range(len(y_p)):\n",
    "        if y_p[i][0] < y_p[i][1]:\n",
    "            y_pred.append(1)\n",
    "        else:\n",
    "            y_pred.append(0)\n",
    "    return y_pred"
   ]
  },
  {
   "cell_type": "code",
   "execution_count": 32,
   "metadata": {},
   "outputs": [],
   "source": [
    "from sklearn.metrics import roc_curve, roc_auc_score, auc\n",
    "\n",
    "y_prob = model.predict_proba(train_x)\n",
    "y_pr = pred(y_prob)\n",
    "\n",
    "fpr, tpr, thresholds = roc_curve(y, y_pr)\n",
    "auc_keras = auc(fpr, tpr)"
   ]
  },
  {
   "cell_type": "code",
   "execution_count": 33,
   "metadata": {},
   "outputs": [],
   "source": [
    "def auc_alg(y_alg):\n",
    "    y_alg = np.array(y_alg)\n",
    "    y_alg = y_alg.reshape(y_alg.shape[1],1)\n",
    "\n",
    "    fpr_alg, tpr_alg, thresholds = roc_curve(y, y_alg)\n",
    "    auc_keras = auc(fpr_alg, tpr_alg)\n",
    "    return auc_keras, fpr_alg, tpr_alg"
   ]
  },
  {
   "cell_type": "code",
   "execution_count": 34,
   "metadata": {},
   "outputs": [],
   "source": [
    "y_CNN = pd.read_csv(\"CNN_pred.csv\", header = None)\n",
    "auc_keras_CNN, fpr_CNN, tpr_CNN = auc_alg(y_CNN)\n",
    "\n",
    "y_RNN = pd.read_csv(\"Simple_RNN_pred.csv\", header = None)\n",
    "auc_keras_RNN, fpr_RNN, tpr_RNN = auc_alg(y_RNN)\n",
    "\n",
    "y_LSTM = pd.read_csv(\"LSTM_pred.csv\", header = None)\n",
    "auc_keras_LSTM, fpr_LSTM, tpr_LSTM = auc_alg(y_LSTM)"
   ]
  },
  {
   "cell_type": "code",
   "execution_count": 35,
   "metadata": {},
   "outputs": [
    {
     "data": {
      "image/png": "[encoded data removed]",
      "text/plain": [
       "<Figure size 432x288 with 1 Axes>"
      ]
     },
     "metadata": {
      "needs_background": "light"
     },
     "output_type": "display_data"
    }
   ],
   "source": [
    "plt.plot([0, 1], [0, 1], 'k--')\n",
    "plt.plot(fpr, tpr, label='MLP ROC AUC = {:.3f}'.format(auc_keras))\n",
    "plt.plot(fpr_CNN, tpr_CNN, label='CNN ROC AUC = {:.3f}'.format(auc_keras_CNN))\n",
    "plt.plot(fpr_RNN, tpr_RNN, label='RNN ROC AUC = {:.3f}'.format(auc_keras_RNN))\n",
    "plt.plot(fpr_LSTM, tpr_LSTM, label='LSTM ROC AUC = {:.3f}'.format(auc_keras_LSTM))\n",
    "plt.xlabel('False positive rate')\n",
    "plt.ylabel('True positive rate')\n",
    "plt.title('ROC curve')\n",
    "plt.legend(loc='best')\n",
    "plt.show()"
   ]
  },
  {
   "cell_type": "code",
   "execution_count": 21,
   "metadata": {},
   "outputs": [
    {
     "data": {
      "image/png": "[encoded data removed]",
      "text/plain": [
       "<Figure size 432x288 with 1 Axes>"
      ]
     },
     "metadata": {
      "needs_background": "light"
     },
     "output_type": "display_data"
    }
   ],
   "source": [
    "import csv\n",
    "\n",
    "loss_values = res.history['loss']\n",
    "epochs = range(1, len(loss_values)+1)\n",
    "\n",
    "with open('MLP_loss.csv', 'w', newline=\"\") as f:\n",
    "    writer = csv.writer(f)\n",
    "    writer.writerow(loss_values)\n",
    "    \n",
    "plt.plot(epochs, loss_values, label='MLP Loss')\n",
    "plt.xlabel('Epochs')\n",
    "plt.ylabel('Loss')\n",
    "plt.legend()\n",
    "\n",
    "plt.show()"
   ]
  },
  {
   "cell_type": "code",
   "execution_count": 28,
   "metadata": {},
   "outputs": [
    {
     "data": {
      "text/plain": [
       "range(1, 101)"
      ]
     },
     "execution_count": 28,
     "metadata": {},
     "output_type": "execute_result"
    }
   ],
   "source": [
    "epochs"
   ]
  },
  {
   "cell_type": "code",
   "execution_count": 15,
   "metadata": {},
   "outputs": [
    {
     "name": "stdout",
     "output_type": "stream",
     "text": [
      "Model: \"sequential\"\n",
      "_________________________________________________________________\n",
      "Layer (type)                 Output Shape              Param #   \n",
      "=================================================================\n",
      "dense (Dense)                multiple                  984       \n",
      "_________________________________________________________________\n",
      "dense_1 (Dense)              multiple                  18        \n",
      "=================================================================\n",
      "Total params: 1,002\n",
      "Trainable params: 1,002\n",
      "Non-trainable params: 0\n",
      "_________________________________________________________________\n",
      "None\n"
     ]
    }
   ],
   "source": [
    "# вывод структуры НС в консоль\n",
    "print(model.summary()) "
   ]
  },
  {
   "cell_type": "code",
   "execution_count": 47,
   "metadata": {},
   "outputs": [
    {
     "name": "stdout",
     "output_type": "stream",
     "text": [
      "\r",
      "5/5 [==============================] - 0s 3ms/sample - loss: 0.0773 - tp: 3.0000 - fp: 0.0000e+00 - tn: 5.0000 - fn: 2.0000 - accuracy: 0.8000 - precision: 1.0000 - recall: 0.6000 - auc: 1.0000\n"
     ]
    },
    {
     "data": {
      "text/plain": [
       "[0.07726457715034485, 3.0, 0.0, 5.0, 2.0, 0.8, 1.0, 0.6, 1.0]"
      ]
     },
     "execution_count": 47,
     "metadata": {},
     "output_type": "execute_result"
    }
   ],
   "source": [
    "test_x = pd.read_csv(\"test_templates00110.csv\", header=None)\n",
    "#test_x = pd.read_csv(\"template_1_test.csv\", header=None)\n",
    "test_x = np.array(test_x)\n",
    "\n",
    "test_y = [0,0,1,1,0]\n",
    "test_y = np.array(test_y)\n",
    "test_y = keras.utils.to_categorical(test_y)\n",
    "\n",
    "model.evaluate(test_x, test_y)"
   ]
  },
  {
   "cell_type": "code",
   "execution_count": 37,
   "metadata": {},
   "outputs": [
    {
     "data": {
      "text/plain": [
       "[0, 0, 1, 1, 0]"
      ]
     },
     "execution_count": 37,
     "metadata": {},
     "output_type": "execute_result"
    }
   ],
   "source": [
    "y_test = model.predict_proba(test_x)\n",
    "y_test = pred(y_test)\n",
    "y_test"
   ]
  },
  {
   "cell_type": "code",
   "execution_count": null,
   "metadata": {},
   "outputs": [],
   "source": []
  }
 ],
 "metadata": {
  "kernelspec": {
   "display_name": "Python 3",
   "language": "python",
   "name": "python3"
  },
  "language_info": {
   "codemirror_mode": {
    "name": "ipython",
    "version": 3
   },
   "file_extension": ".py",
   "mimetype": "text/x-python",
   "name": "python",
   "nbconvert_exporter": "python",
   "pygments_lexer": "ipython3",
   "version": "3.7.9"
  }
 },
 "nbformat": 4,
 "nbformat_minor": 4
}
