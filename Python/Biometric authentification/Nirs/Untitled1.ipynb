{
 "cells": [
  {
   "cell_type": "code",
   "execution_count": 2,
   "metadata": {},
   "outputs": [
    {
     "name": "stdout",
     "output_type": "stream",
     "text": [
      "4\n",
      "1.34\n",
      "1.37\n",
      "1.40\n",
      "1.44\n",
      "1\n",
      "0\n",
      "3\n",
      "[1.186644428630582]\n"
     ]
    }
   ],
   "source": [
    "import numpy as np\n",
    "import math\n",
    "\n",
    "n = int(input())\n",
    "\n",
    "f = []\n",
    "for i in range(n):\n",
    "    s = float(input())\n",
    "    f.append(s*s)\n",
    "\n",
    "q = int(input())\n",
    "arr = []\n",
    "for j in range(q):\n",
    "    a = int(input())\n",
    "    b = int(input())\n",
    "    nf = f[a:b]\n",
    "    s = np.sum(nf)\n",
    "    arr.append(math.sqrt(s/(b-a+1)))\n",
    "print(arr)"
   ]
  },
  {
   "cell_type": "code",
   "execution_count": null,
   "metadata": {},
   "outputs": [],
   "source": []
  },
  {
   "cell_type": "code",
   "execution_count": null,
   "metadata": {},
   "outputs": [],
   "source": []
  }
 ],
 "metadata": {
  "kernelspec": {
   "display_name": "Python 3",
   "language": "python",
   "name": "python3"
  },
  "language_info": {
   "codemirror_mode": {
    "name": "ipython",
    "version": 3
   },
   "file_extension": ".py",
   "mimetype": "text/x-python",
   "name": "python",
   "nbconvert_exporter": "python",
   "pygments_lexer": "ipython3",
   "version": "3.7.6"
  }
 },
 "nbformat": 4,
 "nbformat_minor": 4
}
