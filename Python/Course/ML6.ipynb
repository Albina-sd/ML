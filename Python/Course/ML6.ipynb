{
 "cells": [
  {
   "cell_type": "code",
   "execution_count": 1,
   "metadata": {},
   "outputs": [
    {
     "name": "stderr",
     "output_type": "stream",
     "text": [
      "Downloading 20news dataset. This may take a few minutes.\n",
      "Downloading dataset from https://ndownloader.figshare.com/files/5975967 (14 MB)\n"
     ]
    }
   ],
   "source": [
    "from sklearn import datasets\n",
    "\n",
    "newsgroups = datasets.fetch_20newsgroups(\n",
    "                    subset='all', \n",
    "                    categories=['alt.atheism', 'sci.space']\n",
    "             )"
   ]
  },
  {
   "cell_type": "code",
   "execution_count": 27,
   "metadata": {},
   "outputs": [
    {
     "name": "stdout",
     "output_type": "stream",
     "text": [
      "(1786, 28382)\n",
      "1786\n"
     ]
    }
   ],
   "source": [
    "from sklearn.feature_extraction.text import TfidfVectorizer\n",
    "import numpy as np\n",
    "\n",
    "vectorizer = TfidfVectorizer()\n",
    "V = vectorizer.fit_transform(newsgroups.data)\n",
    "print(V.shape)\n",
    "#print(V)\n",
    "X = np.array(V)\n",
    "y = np.array(newsgroups.target)\n",
    "#print(len(X[0]))\n",
    "print(len(y))"
   ]
  },
  {
   "cell_type": "code",
   "execution_count": 29,
   "metadata": {},
   "outputs": [
    {
     "name": "stdout",
     "output_type": "stream",
     "text": [
      "{'C': 1.0}\n"
     ]
    }
   ],
   "source": [
    "from sklearn.model_selection import KFold\n",
    "from sklearn.svm import SVC\n",
    "from sklearn.model_selection import GridSearchCV\n",
    "\n",
    "grid = {'C': np.power(10.0, np.arange(-5, 6))}\n",
    "cv = KFold(n_splits=5, shuffle=True, random_state=241)\n",
    "clf = SVC(kernel='linear', random_state=241)\n",
    "gs = GridSearchCV(clf, grid, scoring='accuracy', cv=cv)\n",
    "gs.fit(V, y)\n",
    "print(gs.best_params_)"
   ]
  },
  {
   "cell_type": "code",
   "execution_count": 30,
   "metadata": {},
   "outputs": [
    {
     "data": {
      "text/plain": [
       "SVC(C=1.0, break_ties=False, cache_size=200, class_weight=None, coef0=0.0,\n",
       "    decision_function_shape='ovr', degree=3, gamma='scale', kernel='linear',\n",
       "    max_iter=-1, probability=False, random_state=241, shrinking=True, tol=0.001,\n",
       "    verbose=False)"
      ]
     },
     "execution_count": 30,
     "metadata": {},
     "output_type": "execute_result"
    }
   ],
   "source": [
    "clf = SVC(C = 1.0,  random_state=241, kernel='linear')\n",
    "clf.fit(V, y)"
   ]
  },
  {
   "cell_type": "code",
   "execution_count": 31,
   "metadata": {},
   "outputs": [
    {
     "name": "stdout",
     "output_type": "stream",
     "text": [
      "  (0, 11098)\t0.11331531787773684\n",
      "  (0, 6775)\t0.0513432082410742\n",
      "  (0, 5107)\t0.0544519626112152\n",
      "  (0, 98)\t0.05976641330900942\n",
      "  (0, 27042)\t0.10471864296583751\n",
      "  (0, 22622)\t0.10471864296583751\n",
      "  (0, 6135)\t0.10471864296583751\n",
      "  (0, 27130)\t0.006843181403656412\n",
      "  (0, 27083)\t0.006843181403656412\n",
      "  (0, 26026)\t0.007218660562038832\n",
      "  (0, 23036)\t0.006201295542734525\n",
      "  (0, 22982)\t0.007218660562038832\n",
      "  (0, 22762)\t0.007218660562038832\n",
      "  (0, 22739)\t0.007218660562038832\n",
      "  (0, 22595)\t0.007218660562038832\n",
      "  (0, 21945)\t0.006843181403656412\n",
      "  (0, 20801)\t0.014437321124077664\n",
      "  (0, 20800)\t0.04790226982559489\n",
      "  (0, 20042)\t0.021655981686116498\n",
      "  (0, 16400)\t0.01667822904543791\n",
      "  (0, 16224)\t0.007218660562038832\n",
      "  (0, 13928)\t0.007218660562038832\n",
      "  (0, 11716)\t0.007218660562038832\n",
      "  (0, 10127)\t0.006843181403656412\n",
      "  (0, 8938)\t0.007218660562038832\n",
      "  :\t:\n",
      "  (0, 9935)\t0.32483997519389374\n",
      "  (0, 9711)\t-0.09516871224270008\n",
      "  (0, 9622)\t0.039908813011477126\n",
      "  (0, 9368)\t-0.31125053382095413\n",
      "  (0, 9107)\t-0.15752459675412406\n",
      "  (0, 9034)\t0.14484134566730594\n",
      "  (0, 9009)\t-0.3150491935082481\n",
      "  (0, 8498)\t0.01119601102434419\n",
      "  (0, 7951)\t-0.020046259005585595\n",
      "  (0, 7418)\t-0.16263454526432797\n",
      "  (0, 7316)\t-0.08727901120638568\n",
      "  (0, 6702)\t0.44181828592732114\n",
      "  (0, 5653)\t-0.15591512374258143\n",
      "  (0, 5621)\t-0.32526909052865594\n",
      "  (0, 5596)\t-0.5016163200110187\n",
      "  (0, 5563)\t0.027901752815820916\n",
      "  (0, 4796)\t-0.3023512213448376\n",
      "  (0, 4455)\t-0.15490289509001234\n",
      "  (0, 4241)\t-0.5643631189867595\n",
      "  (0, 4059)\t-0.035047007657577775\n",
      "  (0, 4040)\t-0.21175962963291628\n",
      "  (0, 3837)\t-0.2877422722956577\n",
      "  (0, 3669)\t-0.23728550334252307\n",
      "  (0, 3601)\t0.1846112436281238\n",
      "  (0, 335)\t-0.24100180451795294\n"
     ]
    }
   ],
   "source": [
    "print(clf.coef_)"
   ]
  },
  {
   "cell_type": "code",
   "execution_count": 35,
   "metadata": {},
   "outputs": [
    {
     "name": "stdout",
     "output_type": "stream",
     "text": [
      "[22936 15606  5776 21850 23673 17802  5093  5088 12871 24019]\n"
     ]
    }
   ],
   "source": [
    "#10 слов с наибольшим абсолютным значением веса\n",
    "a = np.argsort(np.abs(np.asarray(clf.coef_.todense())).reshape(-1))[-10:]\n",
    "print(a)"
   ]
  },
  {
   "cell_type": "code",
   "execution_count": 46,
   "metadata": {},
   "outputs": [
    {
     "name": "stdout",
     "output_type": "stream",
     "text": [
      "atheism\n",
      "atheists\n",
      "bible\n",
      "god\n",
      "keith\n",
      "moon\n",
      "religion\n",
      "sci\n",
      "sky\n",
      "space\n"
     ]
    }
   ],
   "source": [
    "mass = []\n",
    "#a = np.array(a)\n",
    "for i in range(len(a)):\n",
    "    mass.append(vectorizer.get_feature_names()[a[i]])\n",
    "\n",
    "mass.sort()\n",
    "for i in mass:\n",
    "    print(i)"
   ]
  },
  {
   "cell_type": "code",
   "execution_count": null,
   "metadata": {},
   "outputs": [],
   "source": []
  }
 ],
 "metadata": {
  "kernelspec": {
   "display_name": "Python 3",
   "language": "python",
   "name": "python3"
  },
  "language_info": {
   "codemirror_mode": {
    "name": "ipython",
    "version": 3
   },
   "file_extension": ".py",
   "mimetype": "text/x-python",
   "name": "python",
   "nbconvert_exporter": "python",
   "pygments_lexer": "ipython3",
   "version": "3.7.6"
  }
 },
 "nbformat": 4,
 "nbformat_minor": 4
}
