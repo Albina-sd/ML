{
 "cells": [
  {
   "cell_type": "code",
   "execution_count": 2,
   "metadata": {},
   "outputs": [],
   "source": [
    "import pandas as pd\n",
    "import numpy as np\n",
    "\n",
    "data = pd.read_csv(\"gbm-data.csv\", header = 0)\n",
    "df = pd.DataFrame(data)\n",
    "#df = df.to_numpy()"
   ]
  },
  {
   "cell_type": "code",
   "execution_count": 5,
   "metadata": {},
   "outputs": [
    {
     "data": {
      "text/html": [
       "<div>\n",
       "<style scoped>\n",
       "    .dataframe tbody tr th:only-of-type {\n",
       "        vertical-align: middle;\n",
       "    }\n",
       "\n",
       "    .dataframe tbody tr th {\n",
       "        vertical-align: top;\n",
       "    }\n",
       "\n",
       "    .dataframe thead th {\n",
       "        text-align: right;\n",
       "    }\n",
       "</style>\n",
       "<table border=\"1\" class=\"dataframe\">\n",
       "  <thead>\n",
       "    <tr style=\"text-align: right;\">\n",
       "      <th></th>\n",
       "      <th>Activity</th>\n",
       "      <th>D1</th>\n",
       "      <th>D2</th>\n",
       "      <th>D3</th>\n",
       "      <th>D4</th>\n",
       "      <th>D5</th>\n",
       "      <th>D6</th>\n",
       "      <th>D7</th>\n",
       "      <th>D8</th>\n",
       "      <th>D9</th>\n",
       "      <th>...</th>\n",
       "      <th>D1767</th>\n",
       "      <th>D1768</th>\n",
       "      <th>D1769</th>\n",
       "      <th>D1770</th>\n",
       "      <th>D1771</th>\n",
       "      <th>D1772</th>\n",
       "      <th>D1773</th>\n",
       "      <th>D1774</th>\n",
       "      <th>D1775</th>\n",
       "      <th>D1776</th>\n",
       "    </tr>\n",
       "  </thead>\n",
       "  <tbody>\n",
       "    <tr>\n",
       "      <th>0</th>\n",
       "      <td>1</td>\n",
       "      <td>0.000000</td>\n",
       "      <td>0.497009</td>\n",
       "      <td>0.10</td>\n",
       "      <td>0.0</td>\n",
       "      <td>0.132956</td>\n",
       "      <td>0.678031</td>\n",
       "      <td>0.273166</td>\n",
       "      <td>0.585445</td>\n",
       "      <td>0.743663</td>\n",
       "      <td>...</td>\n",
       "      <td>0</td>\n",
       "      <td>0</td>\n",
       "      <td>0</td>\n",
       "      <td>0</td>\n",
       "      <td>0</td>\n",
       "      <td>0</td>\n",
       "      <td>0</td>\n",
       "      <td>0</td>\n",
       "      <td>0</td>\n",
       "      <td>0</td>\n",
       "    </tr>\n",
       "    <tr>\n",
       "      <th>1</th>\n",
       "      <td>1</td>\n",
       "      <td>0.366667</td>\n",
       "      <td>0.606291</td>\n",
       "      <td>0.05</td>\n",
       "      <td>0.0</td>\n",
       "      <td>0.111209</td>\n",
       "      <td>0.803455</td>\n",
       "      <td>0.106105</td>\n",
       "      <td>0.411754</td>\n",
       "      <td>0.836582</td>\n",
       "      <td>...</td>\n",
       "      <td>1</td>\n",
       "      <td>1</td>\n",
       "      <td>1</td>\n",
       "      <td>1</td>\n",
       "      <td>0</td>\n",
       "      <td>1</td>\n",
       "      <td>0</td>\n",
       "      <td>0</td>\n",
       "      <td>1</td>\n",
       "      <td>0</td>\n",
       "    </tr>\n",
       "    <tr>\n",
       "      <th>2</th>\n",
       "      <td>1</td>\n",
       "      <td>0.033300</td>\n",
       "      <td>0.480124</td>\n",
       "      <td>0.00</td>\n",
       "      <td>0.0</td>\n",
       "      <td>0.209791</td>\n",
       "      <td>0.610350</td>\n",
       "      <td>0.356453</td>\n",
       "      <td>0.517720</td>\n",
       "      <td>0.679051</td>\n",
       "      <td>...</td>\n",
       "      <td>0</td>\n",
       "      <td>0</td>\n",
       "      <td>0</td>\n",
       "      <td>0</td>\n",
       "      <td>0</td>\n",
       "      <td>0</td>\n",
       "      <td>0</td>\n",
       "      <td>0</td>\n",
       "      <td>0</td>\n",
       "      <td>0</td>\n",
       "    </tr>\n",
       "    <tr>\n",
       "      <th>3</th>\n",
       "      <td>1</td>\n",
       "      <td>0.000000</td>\n",
       "      <td>0.538825</td>\n",
       "      <td>0.00</td>\n",
       "      <td>0.5</td>\n",
       "      <td>0.196344</td>\n",
       "      <td>0.724230</td>\n",
       "      <td>0.235606</td>\n",
       "      <td>0.288764</td>\n",
       "      <td>0.805110</td>\n",
       "      <td>...</td>\n",
       "      <td>0</td>\n",
       "      <td>0</td>\n",
       "      <td>0</td>\n",
       "      <td>0</td>\n",
       "      <td>0</td>\n",
       "      <td>0</td>\n",
       "      <td>0</td>\n",
       "      <td>0</td>\n",
       "      <td>0</td>\n",
       "      <td>0</td>\n",
       "    </tr>\n",
       "    <tr>\n",
       "      <th>4</th>\n",
       "      <td>0</td>\n",
       "      <td>0.100000</td>\n",
       "      <td>0.517794</td>\n",
       "      <td>0.00</td>\n",
       "      <td>0.0</td>\n",
       "      <td>0.494734</td>\n",
       "      <td>0.781422</td>\n",
       "      <td>0.154361</td>\n",
       "      <td>0.303809</td>\n",
       "      <td>0.812646</td>\n",
       "      <td>...</td>\n",
       "      <td>0</td>\n",
       "      <td>0</td>\n",
       "      <td>0</td>\n",
       "      <td>0</td>\n",
       "      <td>0</td>\n",
       "      <td>0</td>\n",
       "      <td>0</td>\n",
       "      <td>0</td>\n",
       "      <td>0</td>\n",
       "      <td>0</td>\n",
       "    </tr>\n",
       "  </tbody>\n",
       "</table>\n",
       "<p>5 rows × 1777 columns</p>\n",
       "</div>"
      ],
      "text/plain": [
       "   Activity        D1        D2    D3   D4        D5        D6        D7  \\\n",
       "0         1  0.000000  0.497009  0.10  0.0  0.132956  0.678031  0.273166   \n",
       "1         1  0.366667  0.606291  0.05  0.0  0.111209  0.803455  0.106105   \n",
       "2         1  0.033300  0.480124  0.00  0.0  0.209791  0.610350  0.356453   \n",
       "3         1  0.000000  0.538825  0.00  0.5  0.196344  0.724230  0.235606   \n",
       "4         0  0.100000  0.517794  0.00  0.0  0.494734  0.781422  0.154361   \n",
       "\n",
       "         D8        D9  ...  D1767  D1768  D1769  D1770  D1771  D1772  D1773  \\\n",
       "0  0.585445  0.743663  ...      0      0      0      0      0      0      0   \n",
       "1  0.411754  0.836582  ...      1      1      1      1      0      1      0   \n",
       "2  0.517720  0.679051  ...      0      0      0      0      0      0      0   \n",
       "3  0.288764  0.805110  ...      0      0      0      0      0      0      0   \n",
       "4  0.303809  0.812646  ...      0      0      0      0      0      0      0   \n",
       "\n",
       "   D1774  D1775  D1776  \n",
       "0      0      0      0  \n",
       "1      0      1      0  \n",
       "2      0      0      0  \n",
       "3      0      0      0  \n",
       "4      0      0      0  \n",
       "\n",
       "[5 rows x 1777 columns]"
      ]
     },
     "execution_count": 5,
     "metadata": {},
     "output_type": "execute_result"
    }
   ],
   "source": [
    "data.head()"
   ]
  },
  {
   "cell_type": "code",
   "execution_count": 3,
   "metadata": {},
   "outputs": [],
   "source": [
    "y = df['Activity']\n",
    "X = df\n",
    "X = X.drop(['Activity'],axis=1)"
   ]
  },
  {
   "cell_type": "code",
   "execution_count": 4,
   "metadata": {},
   "outputs": [],
   "source": [
    "from sklearn.model_selection import train_test_split\n",
    "\n",
    "X = np.array(X)\n",
    "y = np.array(y)\n",
    "X_train, X_test, y_train, y_test = train_test_split(X, y, test_size=0.8,random_state=241)"
   ]
  },
  {
   "cell_type": "code",
   "execution_count": null,
   "metadata": {},
   "outputs": [],
   "source": [
    "# Обучите GradientBoostingClassifier с параметрами n_estimators=250, verbose=True, random_state=241\n",
    "# и для каждого значения learning_rate из списка [1, 0.5, 0.3, 0.2, 0.1]\n",
    "# Используйте метод staged_decision_function для предсказания качества на обучающей и тестовой выборке на каждой итерации.\n",
    "# Преобразуйте полученное предсказание с помощью сигмоидной функции по формуле 1 / (1 + e^{−y_pred}), \n",
    "# где y_pred — предсказанное значение.\n",
    "# Вычислите и постройте график значений log-loss (которую можно посчитать с помощью функции sklearn.metrics.log_loss) на\n",
    "# обучающей и тестовой выборках, а также найдите минимальное значение метрики и номер итерации, на которой оно достигается.\n",
    "    "
   ]
  },
  {
   "cell_type": "code",
   "execution_count": 5,
   "metadata": {},
   "outputs": [
    {
     "name": "stdout",
     "output_type": "stream",
     "text": [
      "      Iter       Train Loss   Remaining Time \n",
      "         1           1.0190           26.11s\n",
      "         2           0.9192           26.47s\n",
      "         3           0.8272           27.02s\n",
      "         4           0.7834           27.57s\n",
      "         5           0.7109           27.32s\n",
      "         6           0.6368           27.30s\n",
      "         7           0.5797           27.46s\n",
      "         8           0.5610           27.65s\n",
      "         9           0.5185           27.63s\n",
      "        10           0.4984           27.06s\n",
      "        20           0.1999           25.82s\n",
      "        30           0.1313           24.75s\n",
      "        40           0.0790           23.72s\n",
      "        50           0.0511           22.79s\n",
      "        60           0.0352           21.71s\n",
      "        70           0.0245           20.68s\n",
      "        80           0.0162           19.59s\n",
      "        90           0.0114           18.48s\n",
      "       100           0.0077           17.28s\n",
      "       200           0.0004            5.15s\n"
     ]
    },
    {
     "data": {
      "image/png": "[encoded data removed]",
      "text/plain": [
       "<Figure size 432x288 with 1 Axes>"
      ]
     },
     "metadata": {
      "needs_background": "light"
     },
     "output_type": "display_data"
    },
    {
     "name": "stdout",
     "output_type": "stream",
     "text": [
      "      Iter       Train Loss   Remaining Time \n",
      "         1           1.1255           27.75s\n",
      "         2           1.0035           26.96s\n",
      "         3           0.9386           27.14s\n",
      "         4           0.8844           26.99s\n",
      "         5           0.8381           26.59s\n",
      "         6           0.7995           26.77s\n",
      "         7           0.7559           26.87s\n",
      "         8           0.7205           27.06s\n",
      "         9           0.6958           27.12s\n",
      "        10           0.6725           26.96s\n",
      "        20           0.4672           26.11s\n",
      "        30           0.3179           24.87s\n",
      "        40           0.2274           23.59s\n",
      "        50           0.1774           22.55s\n",
      "        60           0.1394           21.37s\n",
      "        70           0.1050           20.27s\n",
      "        80           0.0805           19.09s\n",
      "        90           0.0650           18.05s\n",
      "       100           0.0511           16.96s\n",
      "       200           0.0058            5.68s\n"
     ]
    },
    {
     "data": {
      "image/png": "[encoded data removed]",
      "text/plain": [
       "<Figure size 432x288 with 1 Axes>"
      ]
     },
     "metadata": {
      "needs_background": "light"
     },
     "output_type": "display_data"
    },
    {
     "name": "stdout",
     "output_type": "stream",
     "text": [
      "      Iter       Train Loss   Remaining Time \n",
      "         1           1.2095           23.99s\n",
      "         2           1.1006           25.58s\n",
      "         3           1.0240           25.37s\n",
      "         4           0.9729           25.95s\n",
      "         5           0.9387           26.17s\n",
      "         6           0.8948           26.09s\n",
      "         7           0.8621           25.69s\n",
      "         8           0.8360           25.98s\n",
      "         9           0.8171           25.76s\n",
      "        10           0.7883           25.51s\n",
      "        20           0.6029           24.18s\n",
      "        30           0.4760           23.84s\n",
      "        40           0.3879           22.69s\n",
      "        50           0.3325           21.98s\n",
      "        60           0.2759           21.12s\n",
      "        70           0.2304           20.22s\n",
      "        80           0.1969           19.25s\n",
      "        90           0.1718           18.12s\n",
      "       100           0.1404           16.99s\n",
      "       200           0.0358            5.67s\n"
     ]
    },
    {
     "data": {
      "image/png": "[encoded data removed]",
      "text/plain": [
       "<Figure size 432x288 with 1 Axes>"
      ]
     },
     "metadata": {
      "needs_background": "light"
     },
     "output_type": "display_data"
    },
    {
     "name": "stdout",
     "output_type": "stream",
     "text": [
      "      Iter       Train Loss   Remaining Time \n",
      "         1           1.3199           24.83s\n",
      "         2           1.2645           25.61s\n",
      "         3           1.2170           26.06s\n",
      "         4           1.1775           26.10s\n",
      "         5           1.1404           26.22s\n",
      "         6           1.1106           26.17s\n",
      "         7           1.0844           26.15s\n",
      "         8           1.0617           25.88s\n",
      "         9           1.0411           25.73s\n",
      "        10           1.0223           25.58s\n",
      "        20           0.8864           24.91s\n",
      "        30           0.7844           24.21s\n",
      "        40           0.7176           23.42s\n",
      "        50           0.6590           21.25s\n",
      "        60           0.6120           20.67s\n",
      "        70           0.5599           20.02s\n",
      "        80           0.5242           19.15s\n",
      "        90           0.4829           18.07s\n",
      "       100           0.4473           16.99s\n",
      "       200           0.2379            5.76s\n"
     ]
    },
    {
     "data": {
      "image/png": "[encoded data removed]",
      "text/plain": [
       "<Figure size 432x288 with 1 Axes>"
      ]
     },
     "metadata": {
      "needs_background": "light"
     },
     "output_type": "display_data"
    },
    {
     "name": "stdout",
     "output_type": "stream",
     "text": [
      "      Iter       Train Loss   Remaining Time \n",
      "         1           1.2613           28.51s\n",
      "         2           1.1715           28.30s\n",
      "         3           1.1009           27.93s\n",
      "         4           1.0529           27.76s\n",
      "         5           1.0130           26.86s\n",
      "         6           0.9740           26.75s\n",
      "         7           0.9475           26.92s\n",
      "         8           0.9197           26.76s\n",
      "         9           0.8979           26.80s\n",
      "        10           0.8730           26.70s\n",
      "        20           0.7207           26.00s\n",
      "        30           0.6055           24.95s\n",
      "        40           0.5244           23.93s\n",
      "        50           0.4501           22.81s\n",
      "        60           0.3908           21.56s\n",
      "        70           0.3372           20.43s\n",
      "        80           0.3009           19.26s\n",
      "        90           0.2603           18.12s\n",
      "       100           0.2327           16.99s\n",
      "       200           0.0835            5.71s\n"
     ]
    },
    {
     "data": {
      "image/png": "[encoded data removed]",
      "text/plain": [
       "<Figure size 432x288 with 1 Axes>"
      ]
     },
     "metadata": {
      "needs_background": "light"
     },
     "output_type": "display_data"
    },
    {
     "name": "stdout",
     "output_type": "stream",
     "text": [
      "0.5301645204906471 (array([36], dtype=int64),)\n"
     ]
    }
   ],
   "source": [
    "from sklearn.ensemble import GradientBoostingClassifier\n",
    "from sklearn.metrics import log_loss\n",
    "import matplotlib.pyplot as plt\n",
    "\n",
    "r_list = [1, 0.5, 0.3,0.1, 0.2]\n",
    "\n",
    "for learning_rate in r_list:\n",
    "    gb_clf = GradientBoostingClassifier(n_estimators=250, learning_rate=learning_rate, verbose=True, random_state=241)\n",
    "    gb_clf.fit(X_train, y_train)\n",
    "    \n",
    "    test_loss = np.empty(250)\n",
    "    for m, y_decision in enumerate(gb_clf.staged_decision_function(X_test)):\n",
    "        y_pred_test = 1.0/(1.0 + np.exp(-y_decision))\n",
    "        test_loss[m] = log_loss(y_test, y_pred_test)\n",
    "    \n",
    "    plt.figure()\n",
    "    plt.plot(test_loss, 'r', linewidth=2)\n",
    "    plt.show()\n",
    "print(min(test_loss), np.where(np.isclose(test_loss, min(test_loss))))"
   ]
  },
  {
   "cell_type": "code",
   "execution_count": null,
   "metadata": {},
   "outputs": [],
   "source": [
    "# На этих же данных обучите RandomForestClassifier с количеством деревьев, равным количеству итераций,\n",
    "# на котором достигается наилучшее качество у градиентного бустинга из предыдущего пункта, c random_state=241\n",
    "# и остальными параметрами по умолчанию. Какое значение log-loss на тесте получается у этого случайного леса?\n",
    "# (Не забывайте, что предсказания нужно получать с помощью функции predict_proba. В данном случае брать сигмоиду\n",
    "# от оценки вероятности класса не нужно)"
   ]
  },
  {
   "cell_type": "code",
   "execution_count": 12,
   "metadata": {},
   "outputs": [
    {
     "name": "stdout",
     "output_type": "stream",
     "text": [
      "0.54\n"
     ]
    }
   ],
   "source": [
    "from sklearn.ensemble import RandomForestClassifier\n",
    "\n",
    "clf = RandomForestClassifier(n_estimators=37, random_state=241)\n",
    "clf.fit(X_train, y_train)\n",
    "pred = clf.predict_proba(X_test)\n",
    "t_loss = log_loss(y_test, pred)\n",
    "print(round(t_loss,2))"
   ]
  },
  {
   "cell_type": "code",
   "execution_count": null,
   "metadata": {},
   "outputs": [],
   "source": []
  }
 ],
 "metadata": {
  "kernelspec": {
   "display_name": "Python 3",
   "language": "python",
   "name": "python3"
  },
  "language_info": {
   "codemirror_mode": {
    "name": "ipython",
    "version": 3
   },
   "file_extension": ".py",
   "mimetype": "text/x-python",
   "name": "python",
   "nbconvert_exporter": "python",
   "pygments_lexer": "ipython3",
   "version": "3.7.6"
  }
 },
 "nbformat": 4,
 "nbformat_minor": 4
}
